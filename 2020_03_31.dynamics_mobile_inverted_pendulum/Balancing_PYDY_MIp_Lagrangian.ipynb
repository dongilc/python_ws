{
 "cells": [
  {
   "cell_type": "markdown",
   "metadata": {},
   "source": [
    "# Mobile inverted pendulum python dynamics\n",
    "author:SeongHyeon Kim\n",
    "\n",
    "program:PYDY balancing robot simulator\n"
   ]
  },
  {
   "cell_type": "markdown",
   "metadata": {},
   "source": [
    "필요한 라이브러리 포함\n"
   ]
  },
  {
   "cell_type": "code",
   "execution_count": 1,
   "metadata": {},
   "outputs": [],
   "source": [
    "from sympy import sin, cos, symbols, solve, Matrix, init_printing\n",
    "from sympy.physics.mechanics import *\n",
    "import numpy as np\n",
    "from sympy.physics.vector import ReferenceFrame"
   ]
  },
  {
   "cell_type": "code",
   "execution_count": 2,
   "metadata": {},
   "outputs": [],
   "source": [
    "init_vprinting()"
   ]
  },
  {
   "cell_type": "markdown",
   "metadata": {},
   "source": [
    "# Reference frames"
   ]
  },
  {
   "cell_type": "markdown",
   "metadata": {},
   "source": [
    "N은 외부의 기준 프레임. 속도를 0으로"
   ]
  },
  {
   "cell_type": "code",
   "execution_count": 3,
   "metadata": {},
   "outputs": [],
   "source": [
    "#Newtonian reference frame\n",
    "N=ReferenceFrame('N')\n",
    "\n",
    "# Define a world coordinate origin\n",
    "No = Point('No')\n",
    "No.set_vel(N, 0)"
   ]
  },
  {
   "cell_type": "markdown",
   "metadata": {},
   "source": [
    "# Variables"
   ]
  },
  {
   "cell_type": "markdown",
   "metadata": {},
   "source": [
    "변수선언"
   ]
  },
  {
   "cell_type": "code",
   "execution_count": 35,
   "metadata": {},
   "outputs": [],
   "source": [
    "x = dynamicsymbols('x')            # F1> measure number of Velocity of P in N\n",
    "xd = dynamicsymbols('xd')\n",
    "xd2 = dynamicsymbols('xdd')\n",
    "theta = dynamicsymbols('theta')    # F2> measure number of Angular velocity of P in N\n",
    "thetad = dynamicsymbols('thetad')\n",
    "thetad2 = dynamicsymbols('thetadd')\n",
    "delta = dynamicsymbols('delta')    # N3> measure number of Angular velocity of P in N\n",
    "deltad = dynamicsymbols('deltad')\n",
    "deltad2 = dynamicsymbols('deltadd')\n",
    "wL = dynamicsymbols('wL')          # Angular velocity of L in N\n",
    "wLd = dynamicsymbols('wL', 1)\n",
    "wLd2 = dynamicsymbols('wL', 2)\n",
    "wR = dynamicsymbols('wR')          # Angular velocity of R in N\n",
    "wRd = dynamicsymbols('wR', 1)\n",
    "wRd2 = dynamicsymbols('wR', 2)\n",
    "TL, TR = dynamicsymbols('tL tR')   #Torques on L, R\n",
    "g = symbols('g', real=True)        #Gravitational acceleration\n",
    "d = symbols('d', real=True)        # Distance from point I to Lo (or Ro)\n",
    "\n",
    "I2P = symbols('I2P', real=True)        # Distance from point I to mass center of P\n",
    "t = symbols('t')\n",
    "I = Point('i')"
   ]
  },
  {
   "cell_type": "code",
   "execution_count": 36,
   "metadata": {},
   "outputs": [],
   "source": [
    "\n",
    "# Create q and dq vectors\n",
    "q = Matrix([x, delta, theta, wL, wR])\n",
    "dq = q.diff()"
   ]
  },
  {
   "cell_type": "code",
   "execution_count": 37,
   "metadata": {},
   "outputs": [],
   "source": [
    "K,J = symbols('K J')"
   ]
  },
  {
   "cell_type": "code",
   "execution_count": 38,
   "metadata": {},
   "outputs": [],
   "source": [
    "#Robot heading Frame\n",
    "F= N.orientnew('H', 'Axis',[delta, N.z] )\n",
    "\n",
    "# Robot Reference Frame(Center of mass)\n",
    "P = F.orientnew('P', 'Axis', [theta, F.y])\n",
    "\n",
    "F.set_ang_vel(N, deltad*N.z)        # Angular velocity of F in N\n",
    "P.set_ang_vel(F, thetad*F.y)        # Angular velocity of P in F\n",
    "\n",
    "\n",
    "V_I_N = I.set_vel(N, xd*F.x)             # Velocity of point I in N\n",
    "\n",
    "\n",
    "\n",
    "Lo = I.locatenew('Lo', d*F.y)                    # Point I to center of wheel L\n",
    "Ro = I.locatenew('Ro', -d*F.y)                   # Point I to center of wheel R\n",
    "\n",
    "\n",
    "V_I_N"
   ]
  },
  {
   "cell_type": "markdown",
   "metadata": {},
   "source": [
    "기준프레임.dcm(상대프레임)"
   ]
  },
  {
   "cell_type": "code",
   "execution_count": 39,
   "metadata": {
    "scrolled": true
   },
   "outputs": [
    {
     "data": {
      "text/latex": [
       "$\\displaystyle \\left[\\begin{matrix}\\operatorname{cos}\\left(\\delta\\right) & - \\operatorname{sin}\\left(\\delta\\right) & 0\\\\\\operatorname{sin}\\left(\\delta\\right) & \\operatorname{cos}\\left(\\delta\\right) & 0\\\\0 & 0 & 1\\end{matrix}\\right]$"
      ],
      "text/plain": [
       "⎡cos(δ)  -sin(δ)  0⎤\n",
       "⎢                  ⎥\n",
       "⎢sin(δ)  cos(δ)   0⎥\n",
       "⎢                  ⎥\n",
       "⎣  0        0     1⎦"
      ]
     },
     "execution_count": 39,
     "metadata": {},
     "output_type": "execute_result"
    }
   ],
   "source": [
    "N.dcm(F)"
   ]
  },
  {
   "cell_type": "code",
   "execution_count": 40,
   "metadata": {
    "scrolled": false
   },
   "outputs": [
    {
     "data": {
      "text/latex": [
       "$\\displaystyle \\left[\\begin{matrix}\\operatorname{cos}\\left(\\theta\\right) & 0 & \\operatorname{sin}\\left(\\theta\\right)\\\\0 & 1 & 0\\\\- \\operatorname{sin}\\left(\\theta\\right) & 0 & \\operatorname{cos}\\left(\\theta\\right)\\end{matrix}\\right]$"
      ],
      "text/plain": [
       "⎡cos(θ)   0  sin(θ)⎤\n",
       "⎢                  ⎥\n",
       "⎢   0     1    0   ⎥\n",
       "⎢                  ⎥\n",
       "⎣-sin(θ)  0  cos(θ)⎦"
      ]
     },
     "execution_count": 40,
     "metadata": {},
     "output_type": "execute_result"
    }
   ],
   "source": [
    "F.dcm(P)"
   ]
  },
  {
   "cell_type": "markdown",
   "metadata": {},
   "source": [
    "## Wheel variables"
   ]
  },
  {
   "cell_type": "markdown",
   "metadata": {},
   "source": [
    "바퀴지름,질량, 관성모멘트 값\n",
    "\n",
    "관성모멘트함수=inertia(기준 좌표, xx, yy,zz회전)"
   ]
  },
  {
   "cell_type": "code",
   "execution_count": 41,
   "metadata": {},
   "outputs": [],
   "source": [
    "R =  ReferenceFrame('R')                           #wheel frames\n",
    "L =  ReferenceFrame('L')"
   ]
  },
  {
   "cell_type": "code",
   "execution_count": 42,
   "metadata": {
    "scrolled": true
   },
   "outputs": [],
   "source": [
    "#Constans for the wheels\n",
    "wR = symbols('wR', real=True)                      #Radius of wheels  \n",
    "M = symbols('M')                                 #wheel mass\n",
    "I_L = inertia(F, K,J,K)                          #Wheel inertia \n",
    "I_R = inertia(F, K,J,K)\n"
   ]
  },
  {
   "cell_type": "markdown",
   "metadata": {},
   "source": [
    "## Body variables"
   ]
  },
  {
   "cell_type": "markdown",
   "metadata": {},
   "source": [
    "바퀴간 거리, 질량, 관성모멘트"
   ]
  },
  {
   "cell_type": "code",
   "execution_count": 43,
   "metadata": {},
   "outputs": [],
   "source": [
    "#Constants for the Robot body\n",
    "I = No.locatenew('I', x*F.x)                      # Point No to I\n",
    "Po = I.locatenew('Po', I2P*P.z)                     # Point I to mass center of P\n",
    "m_b = symbols('m_b')                              #Mass of the body\n",
    "I1, I2, I3 = symbols('I1 I2 I3')                  #Moments of inertia of body"
   ]
  },
  {
   "cell_type": "markdown",
   "metadata": {},
   "source": [
    "P는 로봇의 무게중심기준계.F는 로봇 방향 기준계. Ff는 앞바퀴의 기준계.\n",
    "\n",
    "Ff의 속도 설정 diff() 는 미분을 의미한다."
   ]
  },
  {
   "cell_type": "markdown",
   "metadata": {},
   "source": [
    "# Modeling Wheel (Joints)"
   ]
  },
  {
   "cell_type": "markdown",
   "metadata": {},
   "source": [
    "## Wheel Frames & Angular Velocities"
   ]
  },
  {
   "cell_type": "markdown",
   "metadata": {},
   "source": [
    "바퀴위치, 바퀴회전, 바퀴의 프레임 선언, 바퀴 강체선언\n",
    "\n",
    "\n",
    "기준.locatenew('이름', 이동*단위백터)\n"
   ]
  },
  {
   "cell_type": "code",
   "execution_count": 44,
   "metadata": {},
   "outputs": [],
   "source": [
    "\n",
    "# Create reference frames for wheels\n",
    "L.set_ang_vel(F, wLd*F.y)    # wL is related to w and v due to rolling\n",
    "\n",
    "R.set_ang_vel(F, wRd*F.y)    # wR is related to w and v due to rolling\n",
    "\n"
   ]
  },
  {
   "cell_type": "code",
   "execution_count": 58,
   "metadata": {
    "scrolled": true
   },
   "outputs": [],
   "source": [
    " #바닥과 닿는점\n",
    "LN = Lo.locatenew('LN', -wR*F.z)   # Center of wheel L to contact point LN\n",
    "\n",
    "RN = Ro.locatenew('RN', -wR*F.z)   # Center of wheel R to contact point RN"
   ]
  },
  {
   "cell_type": "markdown",
   "metadata": {},
   "source": [
    "RigidBody =강체 선언 (입자로 저장된다고 한다)\n",
    "\n",
    "\n",
    " B = RigidBody ( '이름' ,질량 중심, 프레임 ,질량, ( I , P ))\n",
    " "
   ]
  },
  {
   "cell_type": "code",
   "execution_count": 59,
   "metadata": {},
   "outputs": [],
   "source": [
    "# Create rigid bodies for wheels\n",
    "Wheel_L = RigidBody('Wheel_L', Lo, L, M, (I_L, Lo))\n",
    "Wheel_R = RigidBody('Wheel_R', Ro, R, M, (I_R, Ro))"
   ]
  },
  {
   "cell_type": "markdown",
   "metadata": {},
   "source": [
    "## Modeling body"
   ]
  },
  {
   "cell_type": "code",
   "execution_count": 60,
   "metadata": {},
   "outputs": [],
   "source": [
    "# Calculate inertia of body\n",
    "Ib = inertia(F, I1, I2, I3)\n",
    "\n",
    "# Center of mass of body   =Po\n",
    "\n",
    "# Create a rigid body object for body\n",
    "Body = RigidBody('Body', Po, P, m_b, (Ib, Po))"
   ]
  },
  {
   "cell_type": "markdown",
   "metadata": {},
   "source": [
    "# Kinematical Differential Equations"
   ]
  },
  {
   "cell_type": "code",
   "execution_count": 61,
   "metadata": {},
   "outputs": [
    {
     "data": {
      "image/png": "[encoded data removed]",
      "text/latex": [
       "$\\displaystyle \\left[ xd - \\dot{x}, \\  thetad - \\dot{\\theta}, \\  deltad - \\dot{\\delta}\\right]$"
      ],
      "text/plain": [
       "[xd - ẋ, thetad - θ̇, deltad - δ̇]"
      ]
     },
     "execution_count": 61,
     "metadata": {},
     "output_type": "execute_result"
    }
   ],
   "source": [
    "kinematical_differential_equations = [xd - x.diff(),\n",
    "                                      thetad - theta.diff(),\n",
    "                                      deltad - delta.diff()]\n",
    "kinematical_differential_equations"
   ]
  },
  {
   "cell_type": "markdown",
   "metadata": {},
   "source": [
    "### 각각의 Mass center 에서의 속도"
   ]
  },
  {
   "cell_type": "markdown",
   "metadata": {},
   "source": [
    "\n",
    "v2pt_theory는 선속도를 의미\n",
    "\n",
    "\n",
    "$$^I\\mathbf{v}^{P_2} = ^I\\mathbf{v}^{P_1} + ^I\\omega^A \\times \\mathbf{r}^{\\frac{P_2}{P_1}}$$\n",
    "\n",
    "The `Point.v2pt_theory()` method makes it easy to do this calculation.\n",
    "\n",
    "측정점.v2pt_theory(회전 중심점, 관찰틀, 회전틀(돌아가는 애))\n",
    "\n",
    "\n",
    "\n",
    "속도를 측정하는게 아니고 부여하는거 같다 좀더 알아보자\n"
   ]
  },
  {
   "cell_type": "code",
   "execution_count": 62,
   "metadata": {},
   "outputs": [],
   "source": [
    "\n",
    "V_I_N = I.set_vel(N, xd*F.x)             # Velocity of point I in N\n",
    "\n",
    "\n",
    "\n",
    "Lo = I.locatenew('Lo', d*F.y)                    # Point I to center of wheel L\n",
    "Ro = I.locatenew('Ro', -d*F.y)                   # Point I to center of wheel R"
   ]
  },
  {
   "cell_type": "code",
   "execution_count": 63,
   "metadata": {},
   "outputs": [],
   "source": [
    "\n",
    "V_PO_N = Po.v2pt_theory(I,N,P)           # Velocity of center of mass of P\n",
    "\n",
    "V_LO_N = Lo.v2pt_theory(I, N,P,)         # Velocity of center of L\n",
    "\n",
    "V_RO_N = Ro.v2pt_theory(I,N,P)           # Velocity of center of R\n"
   ]
  },
  {
   "cell_type": "markdown",
   "metadata": {},
   "source": [
    "### 토크와 힘 작용"
   ]
  },
  {
   "cell_type": "code",
   "execution_count": 64,
   "metadata": {},
   "outputs": [],
   "source": [
    "#중력벡터\n",
    "Gravity = -g * N.z\n",
    "fL = []\n",
    "\n",
    "fL.extend([(P, -g*m_b*N.z),(R, -g*M*N.z),(L, -g*M*N.z)],)"
   ]
  },
  {
   "cell_type": "code",
   "execution_count": 65,
   "metadata": {},
   "outputs": [
    {
     "data": {
      "text/plain": [
       "[(P, - g*m_b*N.z), (R, - M*g*N.z), (L, - M*g*N.z), (L, tL*H.y), (R, tR*H.y)]"
      ]
     },
     "execution_count": 65,
     "metadata": {},
     "output_type": "execute_result"
    }
   ],
   "source": [
    "\n",
    "fL.append( (L, TL*F.y))     #Torques on L\n",
    "\n",
    "    \n",
    "fL.append((R, TR*F.y))    #Torques on R\n",
    "\n",
    "fL"
   ]
  },
  {
   "cell_type": "markdown",
   "metadata": {},
   "source": [
    "## Nonholonomic Constranits"
   ]
  },
  {
   "cell_type": "code",
   "execution_count": 66,
   "metadata": {},
   "outputs": [],
   "source": [
    "V_LN_N = LN.v2pt_theory(Lo,N,L)          # Velocity of contact point of L\n",
    "\n",
    "V_RN_N = RN.v2pt_theory(Ro,N,R)          # Velocity of contact point of R"
   ]
  },
  {
   "cell_type": "code",
   "execution_count": 67,
   "metadata": {
    "scrolled": true
   },
   "outputs": [
    {
     "data": {
      "text/latex": [
       "$\\displaystyle \\left[\\begin{matrix}\\left(- d deltad - wR \\dot{wL} + xd\\right) \\operatorname{cos}\\left(\\delta\\right)\\\\\\left(- d deltad - wR \\dot{wL} + xd\\right) \\operatorname{sin}\\left(\\delta\\right)\\\\0\\\\\\left(d deltad - wR \\dot{wR} + xd\\right) \\operatorname{cos}\\left(\\delta\\right)\\\\\\left(d deltad - wR \\dot{wR} + xd\\right) \\operatorname{sin}\\left(\\delta\\right)\\\\0\\end{matrix}\\right]$"
      ],
      "text/plain": [
       "⎡(-d⋅deltad - wR⋅wL̇ + xd)⋅cos(δ)⎤\n",
       "⎢                                ⎥\n",
       "⎢(-d⋅deltad - wR⋅wL̇ + xd)⋅sin(δ)⎥\n",
       "⎢                                ⎥\n",
       "⎢               0                ⎥\n",
       "⎢                                ⎥\n",
       "⎢(d⋅deltad - wR⋅wṘ + xd)⋅cos(δ) ⎥\n",
       "⎢                                ⎥\n",
       "⎢(d⋅deltad - wR⋅wṘ + xd)⋅sin(δ) ⎥\n",
       "⎢                                ⎥\n",
       "⎣               0                ⎦"
      ]
     },
     "execution_count": 67,
     "metadata": {},
     "output_type": "execute_result"
    }
   ],
   "source": [
    "# Express the velocity of points in the inertial frame\n",
    "con1 = LN.vel(N).express(N).args[0][0]\n",
    "con2 = RN.vel(N).express(N).args[0][0]\n",
    "# Create a matrix of constraints\n",
    "constraints = con1.col_join(con2)\n",
    "constraints"
   ]
  },
  {
   "cell_type": "code",
   "execution_count": 69,
   "metadata": {},
   "outputs": [
    {
     "ename": "AttributeError",
     "evalue": "'list' object has no attribute 'values'",
     "output_type": "error",
     "traceback": [
      "\u001b[1;31m---------------------------------------------------------------------------\u001b[0m",
      "\u001b[1;31mAttributeError\u001b[0m                            Traceback (most recent call last)",
      "\u001b[1;32m<ipython-input-69-2dd6681e3c2a>\u001b[0m in \u001b[0;36m<module>\u001b[1;34m\u001b[0m\n\u001b[0;32m      3\u001b[0m \u001b[1;33m\u001b[0m\u001b[0m\n\u001b[0;32m      4\u001b[0m \u001b[1;31m# Split the resulting dict into a rhs and lhs, that are equivalent\u001b[0m\u001b[1;33m\u001b[0m\u001b[1;33m\u001b[0m\u001b[1;33m\u001b[0m\u001b[0m\n\u001b[1;32m----> 5\u001b[1;33m \u001b[0msol_rhs\u001b[0m \u001b[1;33m=\u001b[0m \u001b[0mMatrix\u001b[0m\u001b[1;33m(\u001b[0m\u001b[0mlist\u001b[0m\u001b[1;33m(\u001b[0m\u001b[0msol\u001b[0m\u001b[1;33m.\u001b[0m\u001b[0mvalues\u001b[0m\u001b[1;33m(\u001b[0m\u001b[1;33m)\u001b[0m\u001b[1;33m)\u001b[0m\u001b[1;33m)\u001b[0m\u001b[1;33m\u001b[0m\u001b[1;33m\u001b[0m\u001b[0m\n\u001b[0m\u001b[0;32m      6\u001b[0m \u001b[0msol_lhs\u001b[0m \u001b[1;33m=\u001b[0m \u001b[0mMatrix\u001b[0m\u001b[1;33m(\u001b[0m\u001b[0mlist\u001b[0m\u001b[1;33m(\u001b[0m\u001b[0msol\u001b[0m\u001b[1;33m.\u001b[0m\u001b[0mkeys\u001b[0m\u001b[1;33m(\u001b[0m\u001b[1;33m)\u001b[0m\u001b[1;33m)\u001b[0m\u001b[1;33m)\u001b[0m\u001b[1;33m\u001b[0m\u001b[1;33m\u001b[0m\u001b[0m\n\u001b[0;32m      7\u001b[0m \u001b[1;33m\u001b[0m\u001b[0m\n",
      "\u001b[1;31mAttributeError\u001b[0m: 'list' object has no attribute 'values'"
     ]
    }
   ],
   "source": [
    "# Solve for dx, dy, and dtheta in terms of dphi1 and dphi2\n",
    "sol = solve(constraints, dq[:3])\n",
    "\n",
    "# Split the resulting dict into a rhs and lhs, that are equivalent\n",
    "sol_rhs = Matrix(list(sol.values()))\n",
    "sol_lhs = Matrix(list(sol.keys()))\n",
    "\n",
    "# Since sol_rhs = sol_lhs --> sol_rhs - sol_lhs = 0\n",
    "# This forms the basis of our constraint matrix.\n",
    "# Combining, and solving for a linear representation:\n",
    "c = (sol_rhs - sol_lhs).jacobian(dq[:5])\n",
    "c"
   ]
  },
  {
   "cell_type": "code",
   "execution_count": 70,
   "metadata": {},
   "outputs": [
    {
     "ename": "NameError",
     "evalue": "name 'c' is not defined",
     "output_type": "error",
     "traceback": [
      "\u001b[1;31m---------------------------------------------------------------------------\u001b[0m",
      "\u001b[1;31mNameError\u001b[0m                                 Traceback (most recent call last)",
      "\u001b[1;32m<ipython-input-70-b4f6d259dbc6>\u001b[0m in \u001b[0;36m<module>\u001b[1;34m\u001b[0m\n\u001b[0;32m      1\u001b[0m \u001b[1;31m# Constraint Equations\u001b[0m\u001b[1;33m\u001b[0m\u001b[1;33m\u001b[0m\u001b[1;33m\u001b[0m\u001b[0m\n\u001b[1;32m----> 2\u001b[1;33m \u001b[0mconeqs\u001b[0m \u001b[1;33m=\u001b[0m \u001b[1;33m(\u001b[0m\u001b[0mc\u001b[0m\u001b[1;33m*\u001b[0m\u001b[0mdq\u001b[0m\u001b[1;33m)\u001b[0m\u001b[1;33m\u001b[0m\u001b[1;33m\u001b[0m\u001b[0m\n\u001b[0m\u001b[0;32m      3\u001b[0m \u001b[0mconeqs\u001b[0m\u001b[1;33m\u001b[0m\u001b[1;33m\u001b[0m\u001b[0m\n",
      "\u001b[1;31mNameError\u001b[0m: name 'c' is not defined"
     ]
    }
   ],
   "source": [
    "# Constraint Equations\n",
    "coneqs = (c*dq)\n",
    "coneqs"
   ]
  },
  {
   "cell_type": "markdown",
   "metadata": {},
   "source": [
    "# 운동방정식으로 만들자"
   ]
  },
  {
   "cell_type": "markdown",
   "metadata": {},
   "source": [
    "## Generalized Forces"
   ]
  },
  {
   "cell_type": "markdown",
   "metadata": {},
   "source": [
    "[토크힘] x [속도,각속도]\n",
    "\n",
    "[Cm속도, 앞바퀴각속도, 뒷바퀴각속도, 몸체 각속도] x [중력, 앞바퀴토크, 뒷바퀴토크, Cm토크] \n",
    "\n",
    "VnWxTnF"
   ]
  },
  {
   "cell_type": "code",
   "execution_count": 71,
   "metadata": {},
   "outputs": [],
   "source": [
    "from __future__ import print_function, division"
   ]
  },
  {
   "cell_type": "code",
   "execution_count": 72,
   "metadata": {},
   "outputs": [],
   "source": [
    "from sympy import trigsimp\n",
    "from sympy.physics.mechanics import KanesMethod"
   ]
  },
  {
   "cell_type": "code",
   "execution_count": 73,
   "metadata": {},
   "outputs": [],
   "source": [
    "from sympy.physics.vector import init_vprinting"
   ]
  },
  {
   "cell_type": "code",
   "execution_count": 74,
   "metadata": {
    "scrolled": true
   },
   "outputs": [
    {
     "data": {
      "image/png": "[encoded data removed]",
      "text/latex": [
       "$\\displaystyle \\left[ x, \\  \\theta, \\  \\delta\\right]$"
      ],
      "text/plain": [
       "[x, θ, δ]"
      ]
     },
     "execution_count": 74,
     "metadata": {},
     "output_type": "execute_result"
    }
   ],
   "source": [
    "q = [x, theta, delta]\n",
    "q"
   ]
  },
  {
   "cell_type": "code",
   "execution_count": 75,
   "metadata": {},
   "outputs": [
    {
     "data": {
      "image/png": "[encoded data removed]",
      "text/latex": [
       "$\\displaystyle \\left[ xd, \\  thetad, \\  deltad\\right]$"
      ],
      "text/plain": [
       "[xd, thetad, deltad]"
      ]
     },
     "execution_count": 75,
     "metadata": {},
     "output_type": "execute_result"
    }
   ],
   "source": [
    "qd = [xd, thetad, deltad]\n",
    "qd"
   ]
  },
  {
   "cell_type": "code",
   "execution_count": 76,
   "metadata": {},
   "outputs": [],
   "source": [
    "kane = KanesMethod(N, q, qd, kinematical_differential_equations)"
   ]
  },
  {
   "cell_type": "code",
   "execution_count": 77,
   "metadata": {},
   "outputs": [
    {
     "data": {
      "text/plain": [
       "[(P, - g*m_b*N.z), (R, - M*g*N.z), (L, - M*g*N.z), (L, tL*H.y), (R, tR*H.y)]"
      ]
     },
     "execution_count": 77,
     "metadata": {},
     "output_type": "execute_result"
    }
   ],
   "source": [
    "fL"
   ]
  },
  {
   "cell_type": "code",
   "execution_count": 78,
   "metadata": {},
   "outputs": [
    {
     "data": {
      "text/plain": [
       "[Body, Wheel_L, Wheel_R]"
      ]
     },
     "execution_count": 78,
     "metadata": {},
     "output_type": "execute_result"
    }
   ],
   "source": [
    "bodies = [Body, Wheel_L, Wheel_R]\n",
    "bodies"
   ]
  },
  {
   "cell_type": "code",
   "execution_count": 79,
   "metadata": {},
   "outputs": [],
   "source": [
    "fr, frstar = kane.kanes_equations(bodies, fL)"
   ]
  },
  {
   "cell_type": "markdown",
   "metadata": {},
   "source": [
    "### F + F* =0 식 (Kanes equation)"
   ]
  },
  {
   "cell_type": "code",
   "execution_count": 80,
   "metadata": {
    "scrolled": true
   },
   "outputs": [
    {
     "data": {
      "text/latex": [
       "$\\displaystyle \\left[\\begin{matrix}I2P m_{b} deltad^{2} \\operatorname{sin}\\left(\\theta\\right) + I2P m_{b} thetad^{2} \\operatorname{sin}\\left(\\theta\\right) - I2P m_{b} \\operatorname{cos}\\left(\\theta\\right) \\dot{thetad} - 2 M \\dot{xd} - m_{b} \\dot{xd}\\\\\\frac{I2P^{2} m_{b} deltad^{2} \\operatorname{sin}\\left(2 \\theta\\right)}{2} - I2P m_{b} \\operatorname{cos}\\left(\\theta\\right) \\dot{xd} - \\left(I_{2} + I2P^{2} m_{b}\\right) \\dot{thetad}\\\\- I2P^{2} m_{b} deltad thetad \\operatorname{sin}\\left(2 \\theta\\right) - I2P m_{b} deltad xd \\operatorname{sin}\\left(\\theta\\right) - 2 M g - g m_{b} - \\left(I2P^{2} m_{b} \\operatorname{sin}^{2}\\left(\\theta\\right) + I_{3} + 2 K + 2 M d^{2}\\right) \\dot{deltad}\\end{matrix}\\right]$"
      ],
      "text/plain": [
       "⎡                              2                        2                     \n",
       "⎢                I2P⋅m_b⋅deltad ⋅sin(θ) + I2P⋅m_b⋅thetad ⋅sin(θ) - I2P⋅m_b⋅cos\n",
       "⎢                                                                             \n",
       "⎢                             2           2                                   \n",
       "⎢                          I2P ⋅m_b⋅deltad ⋅sin(2⋅θ)                        ⎛ \n",
       "⎢                          ───────────────────────── - I2P⋅m_b⋅cos(θ)⋅xḋ - ⎝I\n",
       "⎢                                      2                                      \n",
       "⎢                                                                             \n",
       "⎢     2                                                                       \n",
       "⎣- I2P ⋅m_b⋅deltad⋅thetad⋅sin(2⋅θ) - I2P⋅m_b⋅deltad⋅xd⋅sin(θ) - 2⋅M⋅g - g⋅m_b \n",
       "\n",
       "                                                ⎤\n",
       "(θ)⋅theṫad - 2⋅M⋅xḋ - m_b⋅xḋ                 ⎥\n",
       "                                                ⎥\n",
       "                                                ⎥\n",
       "       2    ⎞                                   ⎥\n",
       "₂ + I2P ⋅m_b⎠⋅theṫad                           ⎥\n",
       "                                                ⎥\n",
       "                                                ⎥\n",
       "  ⎛   2        2                      2⎞        ⎥\n",
       "- ⎝I2P ⋅m_b⋅sin (θ) + I₃ + 2⋅K + 2⋅M⋅d ⎠⋅delṫad⎦"
      ]
     },
     "execution_count": 80,
     "metadata": {},
     "output_type": "execute_result"
    }
   ],
   "source": [
    "trigsimp(fr + frstar)"
   ]
  },
  {
   "cell_type": "code",
   "execution_count": 81,
   "metadata": {
    "scrolled": true
   },
   "outputs": [
    {
     "data": {
      "text/latex": [
       "$\\displaystyle \\left[\\begin{matrix}1 & 0 & 0 & 0 & 0 & 0\\\\0 & 1 & 0 & 0 & 0 & 0\\\\0 & 0 & 1 & 0 & 0 & 0\\\\0 & 0 & 0 & 2 M + m_{b} & I2P m_{b} \\operatorname{cos}\\left(\\theta\\right) & 0\\\\0 & 0 & 0 & I2P m_{b} \\operatorname{cos}\\left(\\theta\\right) & I_{2} + I2P^{2} m_{b} & 0\\\\0 & 0 & 0 & 0 & 0 & I2P^{2} m_{b} \\operatorname{sin}^{2}\\left(\\theta\\right) + I_{3} + 2 K + 2 M d^{2}\\end{matrix}\\right]$"
      ],
      "text/plain": [
       "⎡1  0  0        0               0                          0                  \n",
       "⎢                                                                             \n",
       "⎢0  1  0        0               0                          0                  \n",
       "⎢                                                                             \n",
       "⎢0  0  1        0               0                          0                  \n",
       "⎢                                                                             \n",
       "⎢0  0  0    2⋅M + m_b     I2P⋅m_b⋅cos(θ)                   0                  \n",
       "⎢                                                                             \n",
       "⎢                                 2                                           \n",
       "⎢0  0  0  I2P⋅m_b⋅cos(θ)  I₂ + I2P ⋅m_b                    0                  \n",
       "⎢                                                                             \n",
       "⎢                                            2        2                      2\n",
       "⎣0  0  0        0               0         I2P ⋅m_b⋅sin (θ) + I₃ + 2⋅K + 2⋅M⋅d \n",
       "\n",
       "⎤\n",
       "⎥\n",
       "⎥\n",
       "⎥\n",
       "⎥\n",
       "⎥\n",
       "⎥\n",
       "⎥\n",
       "⎥\n",
       "⎥\n",
       "⎥\n",
       "⎥\n",
       "⎦"
      ]
     },
     "execution_count": 81,
     "metadata": {},
     "output_type": "execute_result"
    }
   ],
   "source": [
    "mass_matrix = trigsimp(kane.mass_matrix_full)\n",
    "mass_matrix"
   ]
  },
  {
   "cell_type": "code",
   "execution_count": 82,
   "metadata": {
    "scrolled": false
   },
   "outputs": [
    {
     "data": {
      "text/latex": [
       "$\\displaystyle \\left[\\begin{matrix}xd\\\\thetad\\\\deltad\\\\I2P m_{b} \\left(deltad^{2} + thetad^{2}\\right) \\operatorname{sin}\\left(\\theta\\right)\\\\\\frac{I2P^{2} m_{b} deltad^{2} \\operatorname{sin}\\left(2 \\theta\\right)}{2}\\\\- I2P^{2} m_{b} deltad thetad \\operatorname{sin}\\left(2 \\theta\\right) - I2P m_{b} deltad xd \\operatorname{sin}\\left(\\theta\\right) - 2 M g - g m_{b}\\end{matrix}\\right]$"
      ],
      "text/plain": [
       "⎡                                     xd                                     ⎤\n",
       "⎢                                                                            ⎥\n",
       "⎢                                   thetad                                   ⎥\n",
       "⎢                                                                            ⎥\n",
       "⎢                                   deltad                                   ⎥\n",
       "⎢                                                                            ⎥\n",
       "⎢                             ⎛      2         2⎞                            ⎥\n",
       "⎢                     I2P⋅m_b⋅⎝deltad  + thetad ⎠⋅sin(θ)                     ⎥\n",
       "⎢                                                                            ⎥\n",
       "⎢                            2           2                                   ⎥\n",
       "⎢                         I2P ⋅m_b⋅deltad ⋅sin(2⋅θ)                          ⎥\n",
       "⎢                         ─────────────────────────                          ⎥\n",
       "⎢                                     2                                      ⎥\n",
       "⎢                                                                            ⎥\n",
       "⎢     2                                                                      ⎥\n",
       "⎣- I2P ⋅m_b⋅deltad⋅thetad⋅sin(2⋅θ) - I2P⋅m_b⋅deltad⋅xd⋅sin(θ) - 2⋅M⋅g - g⋅m_b⎦"
      ]
     },
     "execution_count": 82,
     "metadata": {},
     "output_type": "execute_result"
    }
   ],
   "source": [
    "forcing_vector = trigsimp(kane.forcing_full)\n",
    "forcing_vector"
   ]
  },
  {
   "cell_type": "code",
   "execution_count": 83,
   "metadata": {},
   "outputs": [
    {
     "data": {
      "image/png": "[encoded data removed]",
      "text/latex": [
       "$\\displaystyle \\left\\{deltad, \\theta, thetad, xd\\right\\}$"
      ],
      "text/plain": [
       "{deltad, θ, thetad, xd}"
      ]
     },
     "execution_count": 83,
     "metadata": {},
     "output_type": "execute_result"
    }
   ],
   "source": [
    "find_dynamicsymbols(kane.forcing)"
   ]
  },
  {
   "cell_type": "code",
   "execution_count": 84,
   "metadata": {},
   "outputs": [
    {
     "data": {
      "text/latex": [
       "$\\displaystyle \\left[\\begin{matrix}0\\\\0\\\\- 2 M g - g m_{b}\\end{matrix}\\right]$"
      ],
      "text/plain": [
       "⎡      0       ⎤\n",
       "⎢              ⎥\n",
       "⎢      0       ⎥\n",
       "⎢              ⎥\n",
       "⎣-2⋅M⋅g - g⋅m_b⎦"
      ]
     },
     "execution_count": 84,
     "metadata": {},
     "output_type": "execute_result"
    }
   ],
   "source": [
    "fr"
   ]
  },
  {
   "cell_type": "code",
   "execution_count": 85,
   "metadata": {
    "scrolled": true
   },
   "outputs": [
    {
     "data": {
      "text/latex": [
       "$\\displaystyle \\left[\\begin{matrix}I2P m_{b} deltad^{2} \\operatorname{sin}\\left(\\theta\\right) \\operatorname{cos}^{2}\\left(\\theta\\right) - I2P m_{b} \\operatorname{cos}\\left(\\theta\\right) \\dot{thetad} - m_{b} \\left(- I2P deltad^{2} \\operatorname{sin}^{2}\\left(\\theta\\right) - I2P thetad^{2}\\right) \\operatorname{sin}\\left(\\theta\\right) - \\left(2 M + m_{b}\\right) \\dot{xd}\\\\I2P^{2} m_{b} deltad^{2} \\operatorname{sin}\\left(\\theta\\right) \\operatorname{cos}\\left(\\theta\\right) - I2P m_{b} \\operatorname{cos}\\left(\\theta\\right) \\dot{xd} - \\left(I_{2} + I2P^{2} m_{b}\\right) \\dot{thetad}\\\\- 2 I2P^{2} m_{b} deltad thetad \\operatorname{sin}\\left(\\theta\\right) \\operatorname{cos}\\left(\\theta\\right) - I2P m_{b} deltad xd \\operatorname{sin}\\left(\\theta\\right) - \\left(I2P^{2} m_{b} \\operatorname{sin}^{2}\\left(\\theta\\right) + I_{3} + 2 K + 2 M d^{2}\\right) \\dot{deltad}\\end{matrix}\\right]$"
      ],
      "text/plain": [
       "⎡              2           2                                   ⎛            2 \n",
       "⎢I2P⋅m_b⋅deltad ⋅sin(θ)⋅cos (θ) - I2P⋅m_b⋅cos(θ)⋅theṫad - m_b⋅⎝- I2P⋅deltad ⋅\n",
       "⎢                                                                             \n",
       "⎢                          2           2                                      \n",
       "⎢                       I2P ⋅m_b⋅deltad ⋅sin(θ)⋅cos(θ) - I2P⋅m_b⋅cos(θ)⋅xḋ - \n",
       "⎢                                                                             \n",
       "⎢           2                                                              ⎛  \n",
       "⎣    - 2⋅I2P ⋅m_b⋅deltad⋅thetad⋅sin(θ)⋅cos(θ) - I2P⋅m_b⋅deltad⋅xd⋅sin(θ) - ⎝I2\n",
       "\n",
       "   2                2⎞                         ⎤\n",
       "sin (θ) - I2P⋅thetad ⎠⋅sin(θ) - (2⋅M + m_b)⋅xḋ⎥\n",
       "                                               ⎥\n",
       "⎛        2    ⎞                                ⎥\n",
       "⎝I₂ + I2P ⋅m_b⎠⋅theṫad                        ⎥\n",
       "                                               ⎥\n",
       " 2        2                      2⎞            ⎥\n",
       "P ⋅m_b⋅sin (θ) + I₃ + 2⋅K + 2⋅M⋅d ⎠⋅delṫad    ⎦"
      ]
     },
     "execution_count": 85,
     "metadata": {},
     "output_type": "execute_result"
    }
   ],
   "source": [
    "frstar"
   ]
  },
  {
   "cell_type": "markdown",
   "metadata": {},
   "source": [
    "# 선형화"
   ]
  },
  {
   "cell_type": "code",
   "execution_count": 86,
   "metadata": {},
   "outputs": [],
   "source": [
    "from numpy import array, zeros, eye, asarray, dot, rad2deg\n",
    "from numpy.linalg import inv"
   ]
  },
  {
   "cell_type": "code",
   "execution_count": 87,
   "metadata": {},
   "outputs": [],
   "source": [
    "%matplotlib inline"
   ]
  },
  {
   "cell_type": "code",
   "execution_count": 88,
   "metadata": {},
   "outputs": [],
   "source": [
    "from matplotlib.pyplot import plot, xlabel, ylabel, legend, rcParams"
   ]
  },
  {
   "cell_type": "code",
   "execution_count": 89,
   "metadata": {},
   "outputs": [],
   "source": [
    "rcParams['figure.figsize'] = (14, 8)"
   ]
  },
  {
   "cell_type": "code",
   "execution_count": 90,
   "metadata": {},
   "outputs": [],
   "source": [
    "from sympy import simplify, Matrix, matrix2numpy\n",
    "from sympy.physics.vector import init_vprinting, vlatex"
   ]
  },
  {
   "cell_type": "code",
   "execution_count": 91,
   "metadata": {},
   "outputs": [
    {
     "data": {
      "text/plain": [
       "'%.3f'"
      ]
     },
     "execution_count": 91,
     "metadata": {},
     "output_type": "execute_result"
    }
   ],
   "source": [
    "%precision 3"
   ]
  },
  {
   "cell_type": "code",
   "execution_count": 92,
   "metadata": {},
   "outputs": [
    {
     "ename": "TypeError",
     "evalue": "cannot add <class 'sympy.matrices.dense.MutableDenseMatrix'> and <class 'list'>",
     "output_type": "error",
     "traceback": [
      "\u001b[1;31m---------------------------------------------------------------------------\u001b[0m",
      "\u001b[1;31mTypeError\u001b[0m                                 Traceback (most recent call last)",
      "\u001b[1;32m<ipython-input-92-4d0064c80bfa>\u001b[0m in \u001b[0;36m<module>\u001b[1;34m\u001b[0m\n\u001b[1;32m----> 1\u001b[1;33m \u001b[0mequilibrium_point\u001b[0m \u001b[1;33m=\u001b[0m \u001b[0mzeros\u001b[0m\u001b[1;33m(\u001b[0m\u001b[0mlen\u001b[0m\u001b[1;33m(\u001b[0m\u001b[0mq\u001b[0m \u001b[1;33m+\u001b[0m \u001b[0mdq\u001b[0m\u001b[1;33m)\u001b[0m\u001b[1;33m)\u001b[0m\u001b[1;33m\u001b[0m\u001b[1;33m\u001b[0m\u001b[0m\n\u001b[0m\u001b[0;32m      2\u001b[0m \u001b[0mequilibrium_point\u001b[0m\u001b[1;33m\u001b[0m\u001b[1;33m\u001b[0m\u001b[0m\n",
      "\u001b[1;32mC:\\ProgramData\\Anaconda3\\lib\\site-packages\\sympy\\core\\decorators.py\u001b[0m in \u001b[0;36mbinary_op_wrapper\u001b[1;34m(self, other)\u001b[0m\n\u001b[0;32m    127\u001b[0m                     \u001b[1;32mif\u001b[0m \u001b[0mf\u001b[0m \u001b[1;32mis\u001b[0m \u001b[1;32mnot\u001b[0m \u001b[1;32mNone\u001b[0m\u001b[1;33m:\u001b[0m\u001b[1;33m\u001b[0m\u001b[1;33m\u001b[0m\u001b[0m\n\u001b[0;32m    128\u001b[0m                         \u001b[1;32mreturn\u001b[0m \u001b[0mf\u001b[0m\u001b[1;33m(\u001b[0m\u001b[0mself\u001b[0m\u001b[1;33m)\u001b[0m\u001b[1;33m\u001b[0m\u001b[1;33m\u001b[0m\u001b[0m\n\u001b[1;32m--> 129\u001b[1;33m             \u001b[1;32mreturn\u001b[0m \u001b[0mfunc\u001b[0m\u001b[1;33m(\u001b[0m\u001b[0mself\u001b[0m\u001b[1;33m,\u001b[0m \u001b[0mother\u001b[0m\u001b[1;33m)\u001b[0m\u001b[1;33m\u001b[0m\u001b[1;33m\u001b[0m\u001b[0m\n\u001b[0m\u001b[0;32m    130\u001b[0m         \u001b[1;32mreturn\u001b[0m \u001b[0mbinary_op_wrapper\u001b[0m\u001b[1;33m\u001b[0m\u001b[1;33m\u001b[0m\u001b[0m\n\u001b[0;32m    131\u001b[0m     \u001b[1;32mreturn\u001b[0m \u001b[0mpriority_decorator\u001b[0m\u001b[1;33m\u001b[0m\u001b[1;33m\u001b[0m\u001b[0m\n",
      "\u001b[1;32mC:\\ProgramData\\Anaconda3\\lib\\site-packages\\sympy\\matrices\\common.py\u001b[0m in \u001b[0;36m__radd__\u001b[1;34m(self, other)\u001b[0m\n\u001b[0;32m   2159\u001b[0m     \u001b[1;33m@\u001b[0m\u001b[0mcall_highest_priority\u001b[0m\u001b[1;33m(\u001b[0m\u001b[1;34m'__add__'\u001b[0m\u001b[1;33m)\u001b[0m\u001b[1;33m\u001b[0m\u001b[1;33m\u001b[0m\u001b[0m\n\u001b[0;32m   2160\u001b[0m     \u001b[1;32mdef\u001b[0m \u001b[0m__radd__\u001b[0m\u001b[1;33m(\u001b[0m\u001b[0mself\u001b[0m\u001b[1;33m,\u001b[0m \u001b[0mother\u001b[0m\u001b[1;33m)\u001b[0m\u001b[1;33m:\u001b[0m\u001b[1;33m\u001b[0m\u001b[1;33m\u001b[0m\u001b[0m\n\u001b[1;32m-> 2161\u001b[1;33m         \u001b[1;32mreturn\u001b[0m \u001b[0mself\u001b[0m \u001b[1;33m+\u001b[0m \u001b[0mother\u001b[0m\u001b[1;33m\u001b[0m\u001b[1;33m\u001b[0m\u001b[0m\n\u001b[0m\u001b[0;32m   2162\u001b[0m \u001b[1;33m\u001b[0m\u001b[0m\n\u001b[0;32m   2163\u001b[0m     \u001b[1;33m@\u001b[0m\u001b[0mcall_highest_priority\u001b[0m\u001b[1;33m(\u001b[0m\u001b[1;34m'__matmul__'\u001b[0m\u001b[1;33m)\u001b[0m\u001b[1;33m\u001b[0m\u001b[1;33m\u001b[0m\u001b[0m\n",
      "\u001b[1;32mC:\\ProgramData\\Anaconda3\\lib\\site-packages\\sympy\\core\\decorators.py\u001b[0m in \u001b[0;36mbinary_op_wrapper\u001b[1;34m(self, other)\u001b[0m\n\u001b[0;32m    127\u001b[0m                     \u001b[1;32mif\u001b[0m \u001b[0mf\u001b[0m \u001b[1;32mis\u001b[0m \u001b[1;32mnot\u001b[0m \u001b[1;32mNone\u001b[0m\u001b[1;33m:\u001b[0m\u001b[1;33m\u001b[0m\u001b[1;33m\u001b[0m\u001b[0m\n\u001b[0;32m    128\u001b[0m                         \u001b[1;32mreturn\u001b[0m \u001b[0mf\u001b[0m\u001b[1;33m(\u001b[0m\u001b[0mself\u001b[0m\u001b[1;33m)\u001b[0m\u001b[1;33m\u001b[0m\u001b[1;33m\u001b[0m\u001b[0m\n\u001b[1;32m--> 129\u001b[1;33m             \u001b[1;32mreturn\u001b[0m \u001b[0mfunc\u001b[0m\u001b[1;33m(\u001b[0m\u001b[0mself\u001b[0m\u001b[1;33m,\u001b[0m \u001b[0mother\u001b[0m\u001b[1;33m)\u001b[0m\u001b[1;33m\u001b[0m\u001b[1;33m\u001b[0m\u001b[0m\n\u001b[0m\u001b[0;32m    130\u001b[0m         \u001b[1;32mreturn\u001b[0m \u001b[0mbinary_op_wrapper\u001b[0m\u001b[1;33m\u001b[0m\u001b[1;33m\u001b[0m\u001b[0m\n\u001b[0;32m    131\u001b[0m     \u001b[1;32mreturn\u001b[0m \u001b[0mpriority_decorator\u001b[0m\u001b[1;33m\u001b[0m\u001b[1;33m\u001b[0m\u001b[0m\n",
      "\u001b[1;32mC:\\ProgramData\\Anaconda3\\lib\\site-packages\\sympy\\matrices\\common.py\u001b[0m in \u001b[0;36m__add__\u001b[1;34m(self, other)\u001b[0m\n\u001b[0;32m   2055\u001b[0m             \u001b[1;32mreturn\u001b[0m \u001b[0mMatrixArithmetic\u001b[0m\u001b[1;33m.\u001b[0m\u001b[0m_eval_add\u001b[0m\u001b[1;33m(\u001b[0m\u001b[0mself\u001b[0m\u001b[1;33m,\u001b[0m \u001b[0mother\u001b[0m\u001b[1;33m)\u001b[0m\u001b[1;33m\u001b[0m\u001b[1;33m\u001b[0m\u001b[0m\n\u001b[0;32m   2056\u001b[0m \u001b[1;33m\u001b[0m\u001b[0m\n\u001b[1;32m-> 2057\u001b[1;33m         \u001b[1;32mraise\u001b[0m \u001b[0mTypeError\u001b[0m\u001b[1;33m(\u001b[0m\u001b[1;34m'cannot add %s and %s'\u001b[0m \u001b[1;33m%\u001b[0m \u001b[1;33m(\u001b[0m\u001b[0mtype\u001b[0m\u001b[1;33m(\u001b[0m\u001b[0mself\u001b[0m\u001b[1;33m)\u001b[0m\u001b[1;33m,\u001b[0m \u001b[0mtype\u001b[0m\u001b[1;33m(\u001b[0m\u001b[0mother\u001b[0m\u001b[1;33m)\u001b[0m\u001b[1;33m)\u001b[0m\u001b[1;33m)\u001b[0m\u001b[1;33m\u001b[0m\u001b[1;33m\u001b[0m\u001b[0m\n\u001b[0m\u001b[0;32m   2058\u001b[0m \u001b[1;33m\u001b[0m\u001b[0m\n\u001b[0;32m   2059\u001b[0m     \u001b[1;33m@\u001b[0m\u001b[0mcall_highest_priority\u001b[0m\u001b[1;33m(\u001b[0m\u001b[1;34m'__rdiv__'\u001b[0m\u001b[1;33m)\u001b[0m\u001b[1;33m\u001b[0m\u001b[1;33m\u001b[0m\u001b[0m\n",
      "\u001b[1;31mTypeError\u001b[0m: cannot add <class 'sympy.matrices.dense.MutableDenseMatrix'> and <class 'list'>"
     ]
    }
   ],
   "source": [
    "equilibrium_point = zeros(len(q + dq))\n",
    "equilibrium_point"
   ]
  },
  {
   "cell_type": "code",
   "execution_count": 93,
   "metadata": {},
   "outputs": [
    {
     "ename": "TypeError",
     "evalue": "cannot add <class 'sympy.matrices.dense.MutableDenseMatrix'> and <class 'list'>",
     "output_type": "error",
     "traceback": [
      "\u001b[1;31m---------------------------------------------------------------------------\u001b[0m",
      "\u001b[1;31mTypeError\u001b[0m                                 Traceback (most recent call last)",
      "\u001b[1;32m<ipython-input-93-d08425c86c97>\u001b[0m in \u001b[0;36m<module>\u001b[1;34m\u001b[0m\n\u001b[1;32m----> 1\u001b[1;33m \u001b[0mequilibrium_dict\u001b[0m \u001b[1;33m=\u001b[0m \u001b[0mdict\u001b[0m\u001b[1;33m(\u001b[0m\u001b[0mzip\u001b[0m\u001b[1;33m(\u001b[0m\u001b[0mq\u001b[0m \u001b[1;33m+\u001b[0m \u001b[0mdq\u001b[0m\u001b[1;33m,\u001b[0m \u001b[0mequilibrium_point\u001b[0m\u001b[1;33m)\u001b[0m\u001b[1;33m)\u001b[0m\u001b[1;33m\u001b[0m\u001b[1;33m\u001b[0m\u001b[0m\n\u001b[0m\u001b[0;32m      2\u001b[0m \u001b[0mequilibrium_dict\u001b[0m\u001b[1;33m\u001b[0m\u001b[1;33m\u001b[0m\u001b[0m\n",
      "\u001b[1;32mC:\\ProgramData\\Anaconda3\\lib\\site-packages\\sympy\\core\\decorators.py\u001b[0m in \u001b[0;36mbinary_op_wrapper\u001b[1;34m(self, other)\u001b[0m\n\u001b[0;32m    127\u001b[0m                     \u001b[1;32mif\u001b[0m \u001b[0mf\u001b[0m \u001b[1;32mis\u001b[0m \u001b[1;32mnot\u001b[0m \u001b[1;32mNone\u001b[0m\u001b[1;33m:\u001b[0m\u001b[1;33m\u001b[0m\u001b[1;33m\u001b[0m\u001b[0m\n\u001b[0;32m    128\u001b[0m                         \u001b[1;32mreturn\u001b[0m \u001b[0mf\u001b[0m\u001b[1;33m(\u001b[0m\u001b[0mself\u001b[0m\u001b[1;33m)\u001b[0m\u001b[1;33m\u001b[0m\u001b[1;33m\u001b[0m\u001b[0m\n\u001b[1;32m--> 129\u001b[1;33m             \u001b[1;32mreturn\u001b[0m \u001b[0mfunc\u001b[0m\u001b[1;33m(\u001b[0m\u001b[0mself\u001b[0m\u001b[1;33m,\u001b[0m \u001b[0mother\u001b[0m\u001b[1;33m)\u001b[0m\u001b[1;33m\u001b[0m\u001b[1;33m\u001b[0m\u001b[0m\n\u001b[0m\u001b[0;32m    130\u001b[0m         \u001b[1;32mreturn\u001b[0m \u001b[0mbinary_op_wrapper\u001b[0m\u001b[1;33m\u001b[0m\u001b[1;33m\u001b[0m\u001b[0m\n\u001b[0;32m    131\u001b[0m     \u001b[1;32mreturn\u001b[0m \u001b[0mpriority_decorator\u001b[0m\u001b[1;33m\u001b[0m\u001b[1;33m\u001b[0m\u001b[0m\n",
      "\u001b[1;32mC:\\ProgramData\\Anaconda3\\lib\\site-packages\\sympy\\matrices\\common.py\u001b[0m in \u001b[0;36m__radd__\u001b[1;34m(self, other)\u001b[0m\n\u001b[0;32m   2159\u001b[0m     \u001b[1;33m@\u001b[0m\u001b[0mcall_highest_priority\u001b[0m\u001b[1;33m(\u001b[0m\u001b[1;34m'__add__'\u001b[0m\u001b[1;33m)\u001b[0m\u001b[1;33m\u001b[0m\u001b[1;33m\u001b[0m\u001b[0m\n\u001b[0;32m   2160\u001b[0m     \u001b[1;32mdef\u001b[0m \u001b[0m__radd__\u001b[0m\u001b[1;33m(\u001b[0m\u001b[0mself\u001b[0m\u001b[1;33m,\u001b[0m \u001b[0mother\u001b[0m\u001b[1;33m)\u001b[0m\u001b[1;33m:\u001b[0m\u001b[1;33m\u001b[0m\u001b[1;33m\u001b[0m\u001b[0m\n\u001b[1;32m-> 2161\u001b[1;33m         \u001b[1;32mreturn\u001b[0m \u001b[0mself\u001b[0m \u001b[1;33m+\u001b[0m \u001b[0mother\u001b[0m\u001b[1;33m\u001b[0m\u001b[1;33m\u001b[0m\u001b[0m\n\u001b[0m\u001b[0;32m   2162\u001b[0m \u001b[1;33m\u001b[0m\u001b[0m\n\u001b[0;32m   2163\u001b[0m     \u001b[1;33m@\u001b[0m\u001b[0mcall_highest_priority\u001b[0m\u001b[1;33m(\u001b[0m\u001b[1;34m'__matmul__'\u001b[0m\u001b[1;33m)\u001b[0m\u001b[1;33m\u001b[0m\u001b[1;33m\u001b[0m\u001b[0m\n",
      "\u001b[1;32mC:\\ProgramData\\Anaconda3\\lib\\site-packages\\sympy\\core\\decorators.py\u001b[0m in \u001b[0;36mbinary_op_wrapper\u001b[1;34m(self, other)\u001b[0m\n\u001b[0;32m    127\u001b[0m                     \u001b[1;32mif\u001b[0m \u001b[0mf\u001b[0m \u001b[1;32mis\u001b[0m \u001b[1;32mnot\u001b[0m \u001b[1;32mNone\u001b[0m\u001b[1;33m:\u001b[0m\u001b[1;33m\u001b[0m\u001b[1;33m\u001b[0m\u001b[0m\n\u001b[0;32m    128\u001b[0m                         \u001b[1;32mreturn\u001b[0m \u001b[0mf\u001b[0m\u001b[1;33m(\u001b[0m\u001b[0mself\u001b[0m\u001b[1;33m)\u001b[0m\u001b[1;33m\u001b[0m\u001b[1;33m\u001b[0m\u001b[0m\n\u001b[1;32m--> 129\u001b[1;33m             \u001b[1;32mreturn\u001b[0m \u001b[0mfunc\u001b[0m\u001b[1;33m(\u001b[0m\u001b[0mself\u001b[0m\u001b[1;33m,\u001b[0m \u001b[0mother\u001b[0m\u001b[1;33m)\u001b[0m\u001b[1;33m\u001b[0m\u001b[1;33m\u001b[0m\u001b[0m\n\u001b[0m\u001b[0;32m    130\u001b[0m         \u001b[1;32mreturn\u001b[0m \u001b[0mbinary_op_wrapper\u001b[0m\u001b[1;33m\u001b[0m\u001b[1;33m\u001b[0m\u001b[0m\n\u001b[0;32m    131\u001b[0m     \u001b[1;32mreturn\u001b[0m \u001b[0mpriority_decorator\u001b[0m\u001b[1;33m\u001b[0m\u001b[1;33m\u001b[0m\u001b[0m\n",
      "\u001b[1;32mC:\\ProgramData\\Anaconda3\\lib\\site-packages\\sympy\\matrices\\common.py\u001b[0m in \u001b[0;36m__add__\u001b[1;34m(self, other)\u001b[0m\n\u001b[0;32m   2055\u001b[0m             \u001b[1;32mreturn\u001b[0m \u001b[0mMatrixArithmetic\u001b[0m\u001b[1;33m.\u001b[0m\u001b[0m_eval_add\u001b[0m\u001b[1;33m(\u001b[0m\u001b[0mself\u001b[0m\u001b[1;33m,\u001b[0m \u001b[0mother\u001b[0m\u001b[1;33m)\u001b[0m\u001b[1;33m\u001b[0m\u001b[1;33m\u001b[0m\u001b[0m\n\u001b[0;32m   2056\u001b[0m \u001b[1;33m\u001b[0m\u001b[0m\n\u001b[1;32m-> 2057\u001b[1;33m         \u001b[1;32mraise\u001b[0m \u001b[0mTypeError\u001b[0m\u001b[1;33m(\u001b[0m\u001b[1;34m'cannot add %s and %s'\u001b[0m \u001b[1;33m%\u001b[0m \u001b[1;33m(\u001b[0m\u001b[0mtype\u001b[0m\u001b[1;33m(\u001b[0m\u001b[0mself\u001b[0m\u001b[1;33m)\u001b[0m\u001b[1;33m,\u001b[0m \u001b[0mtype\u001b[0m\u001b[1;33m(\u001b[0m\u001b[0mother\u001b[0m\u001b[1;33m)\u001b[0m\u001b[1;33m)\u001b[0m\u001b[1;33m)\u001b[0m\u001b[1;33m\u001b[0m\u001b[1;33m\u001b[0m\u001b[0m\n\u001b[0m\u001b[0;32m   2058\u001b[0m \u001b[1;33m\u001b[0m\u001b[0m\n\u001b[0;32m   2059\u001b[0m     \u001b[1;33m@\u001b[0m\u001b[0mcall_highest_priority\u001b[0m\u001b[1;33m(\u001b[0m\u001b[1;34m'__rdiv__'\u001b[0m\u001b[1;33m)\u001b[0m\u001b[1;33m\u001b[0m\u001b[1;33m\u001b[0m\u001b[0m\n",
      "\u001b[1;31mTypeError\u001b[0m: cannot add <class 'sympy.matrices.dense.MutableDenseMatrix'> and <class 'list'>"
     ]
    }
   ],
   "source": [
    "equilibrium_dict = dict(zip(q + dq, equilibrium_point))\n",
    "equilibrium_dict"
   ]
  },
  {
   "cell_type": "code",
   "execution_count": null,
   "metadata": {},
   "outputs": [],
   "source": [
    "M, F_A, F_B, r = kane.linearize(new_method=True, op_point=equilibrium_dict)"
   ]
  },
  {
   "cell_type": "code",
   "execution_count": null,
   "metadata": {},
   "outputs": [],
   "source": [
    "simplify(M)"
   ]
  },
  {
   "cell_type": "code",
   "execution_count": null,
   "metadata": {},
   "outputs": [],
   "source": [
    "simplify(F_A)"
   ]
  },
  {
   "cell_type": "code",
   "execution_count": null,
   "metadata": {},
   "outputs": [],
   "source": [
    "simplify(F_B) "
   ]
  },
  {
   "cell_type": "markdown",
   "metadata": {},
   "source": [
    "# Simulation"
   ]
  },
  {
   "cell_type": "code",
   "execution_count": null,
   "metadata": {},
   "outputs": [],
   "source": [
    "from sympy import Dummy, lambdify\n",
    "from numpy import array, hstack, zeros, linspace, pi\n",
    "from numpy.linalg import solve\n",
    "from scipy.integrate import odeint"
   ]
  },
  {
   "cell_type": "markdown",
   "metadata": {},
   "source": [
    "### System parameter"
   ]
  },
  {
   "cell_type": "code",
   "execution_count": null,
   "metadata": {},
   "outputs": [],
   "source": [
    "parameters= [g, m_b ,m_wf, m_wr]\n",
    "parameter_vals=[9.81, 10., 5., 3.]\n",
    "parameter_dict = dict(zip(parameters, parameter_vals))\n",
    "parameter_dict"
   ]
  },
  {
   "cell_type": "markdown",
   "metadata": {},
   "source": [
    "# Control"
   ]
  },
  {
   "cell_type": "code",
   "execution_count": null,
   "metadata": {},
   "outputs": [],
   "source": [
    "import control\n",
    "from numpy import dot\n",
    "from numpy.linalg import matrix_rank"
   ]
  },
  {
   "cell_type": "code",
   "execution_count": null,
   "metadata": {},
   "outputs": [],
   "source": []
  }
 ],
 "metadata": {
  "kernelspec": {
   "display_name": "Python 3",
   "language": "python",
   "name": "python3"
  },
  "language_info": {
   "codemirror_mode": {
    "name": "ipython",
    "version": 3
   },
   "file_extension": ".py",
   "mimetype": "text/x-python",
   "name": "python",
   "nbconvert_exporter": "python",
   "pygments_lexer": "ipython3",
   "version": "3.7.6"
  }
 },
 "nbformat": 4,
 "nbformat_minor": 2
}
