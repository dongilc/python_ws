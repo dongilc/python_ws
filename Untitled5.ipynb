{
 "cells": [
  {
   "cell_type": "code",
   "execution_count": 1,
   "metadata": {},
   "outputs": [],
   "source": [
    "import modern_robotics as mr"
   ]
  },
  {
   "cell_type": "code",
   "execution_count": 2,
   "metadata": {},
   "outputs": [
    {
     "name": "stdout",
     "output_type": "stream",
     "text": [
      "Help on package modern_robotics:\n",
      "\n",
      "NAME\n",
      "    modern_robotics\n",
      "\n",
      "PACKAGE CONTENTS\n",
      "    __version__\n",
      "    core\n",
      "\n",
      "DATA\n",
      "    print_function = _Feature((2, 6, 0, 'alpha', 2), (3, 0, 0, 'alpha', 0)...\n",
      "\n",
      "VERSION\n",
      "    1.1.0\n",
      "\n",
      "FILE\n",
      "    c:\\users\\cdi\\anaconda3\\lib\\site-packages\\modern_robotics\\__init__.py\n",
      "\n",
      "\n"
     ]
    }
   ],
   "source": [
    "help(mr)"
   ]
  },
  {
   "cell_type": "code",
   "execution_count": 3,
   "metadata": {},
   "outputs": [
    {
     "data": {
      "text/plain": [
       "['Adjoint',\n",
       " 'AxisAng3',\n",
       " 'AxisAng6',\n",
       " 'CartesianTrajectory',\n",
       " 'ComputedTorque',\n",
       " 'CubicTimeScaling',\n",
       " 'DistanceToSE3',\n",
       " 'DistanceToSO3',\n",
       " 'EndEffectorForces',\n",
       " 'EulerStep',\n",
       " 'FKinBody',\n",
       " 'FKinSpace',\n",
       " 'ForwardDynamics',\n",
       " 'ForwardDynamicsTrajectory',\n",
       " 'GravityForces',\n",
       " 'IKinBody',\n",
       " 'IKinSpace',\n",
       " 'InverseDynamics',\n",
       " 'InverseDynamicsTrajectory',\n",
       " 'JacobianBody',\n",
       " 'JacobianSpace',\n",
       " 'JointTrajectory',\n",
       " 'MassMatrix',\n",
       " 'MatrixExp3',\n",
       " 'MatrixExp6',\n",
       " 'MatrixLog3',\n",
       " 'MatrixLog6',\n",
       " 'NearZero',\n",
       " 'Normalize',\n",
       " 'ProjectToSE3',\n",
       " 'ProjectToSO3',\n",
       " 'QuinticTimeScaling',\n",
       " 'RotInv',\n",
       " 'RpToTrans',\n",
       " 'ScrewToAxis',\n",
       " 'ScrewTrajectory',\n",
       " 'SimulateControl',\n",
       " 'TestIfSE3',\n",
       " 'TestIfSO3',\n",
       " 'TransInv',\n",
       " 'TransToRp',\n",
       " 'VecTose3',\n",
       " 'VecToso3',\n",
       " 'VelQuadraticForces',\n",
       " '__builtins__',\n",
       " '__cached__',\n",
       " '__doc__',\n",
       " '__file__',\n",
       " '__loader__',\n",
       " '__name__',\n",
       " '__package__',\n",
       " '__path__',\n",
       " '__spec__',\n",
       " '__version__',\n",
       " 'ad',\n",
       " 'core',\n",
       " 'np',\n",
       " 'print_function',\n",
       " 'se3ToVec',\n",
       " 'so3ToVec']"
      ]
     },
     "execution_count": 3,
     "metadata": {},
     "output_type": "execute_result"
    }
   ],
   "source": [
    "dir(mr)"
   ]
  },
  {
   "cell_type": "code",
   "execution_count": 4,
   "metadata": {},
   "outputs": [
    {
     "name": "stdout",
     "output_type": "stream",
     "text": [
      "Help on function TestIfSO3 in module modern_robotics.core:\n",
      "\n",
      "TestIfSO3(mat)\n",
      "    Returns true if mat is close to or on the manifold SO(3)\n",
      "    \n",
      "    :param mat: A 3x3 matrix\n",
      "    :return: True if mat is very close to or in SO(3), false otherwise\n",
      "    Computes the distance d from mat to the SO(3) manifold using the\n",
      "    following method:\n",
      "    If det(mat) <= 0, d = a large number.\n",
      "    If det(mat) > 0, d = norm(mat^T.mat - I).\n",
      "    If d is close to zero, return true. Otherwise, return false.\n",
      "    \n",
      "    Example Input:\n",
      "        mat = np.array([[1.0, 0.0,  0.0 ],\n",
      "                        [0.0, 0.1, -0.95],\n",
      "                        [0.0, 1.0,  0.1 ]])\n",
      "    Output:\n",
      "        False\n",
      "\n"
     ]
    }
   ],
   "source": [
    "help(mr.TestIfSO3)"
   ]
  },
  {
   "cell_type": "code",
   "execution_count": 8,
   "metadata": {},
   "outputs": [
    {
     "data": {
      "text/plain": [
       "array([[1, 0, 0],\n",
       "       [0, 0, 0],\n",
       "       [0, 0, 1]])"
      ]
     },
     "execution_count": 8,
     "metadata": {},
     "output_type": "execute_result"
    }
   ],
   "source": [
    "R = mr.np.array([[1,0,0], \n",
    "                 [0,0,0], \n",
    "                 [0,0,1]])\n",
    "R"
   ]
  },
  {
   "cell_type": "code",
   "execution_count": 9,
   "metadata": {},
   "outputs": [
    {
     "data": {
      "text/plain": [
       "False"
      ]
     },
     "execution_count": 9,
     "metadata": {},
     "output_type": "execute_result"
    }
   ],
   "source": [
    "mr.TestIfSO3(R)"
   ]
  },
  {
   "cell_type": "code",
   "execution_count": null,
   "metadata": {},
   "outputs": [],
   "source": []
  }
 ],
 "metadata": {
  "kernelspec": {
   "display_name": "Python 3",
   "language": "python",
   "name": "python3"
  },
  "language_info": {
   "codemirror_mode": {
    "name": "ipython",
    "version": 3
   },
   "file_extension": ".py",
   "mimetype": "text/x-python",
   "name": "python",
   "nbconvert_exporter": "python",
   "pygments_lexer": "ipython3",
   "version": "3.7.6"
  }
 },
 "nbformat": 4,
 "nbformat_minor": 4
}
