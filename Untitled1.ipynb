{
 "cells": [
  {
   "cell_type": "code",
   "execution_count": 1,
   "metadata": {},
   "outputs": [],
   "source": [
    "import sympy"
   ]
  },
  {
   "cell_type": "code",
   "execution_count": 2,
   "metadata": {},
   "outputs": [],
   "source": [
    "r_S1, r_S2, r_R1, r_R2, r_P1, r_P2 = sympy.symbols('r_S1, r_S2, r_R1, r_R2, r_P1, r_P2')"
   ]
  },
  {
   "cell_type": "code",
   "execution_count": 3,
   "metadata": {},
   "outputs": [],
   "source": [
    "w_S1, w_S2, w_R1, w_R2, w_P1, w_P2, w_C1, w_C2 = sympy.symbols('w_S1, w_S2, w_R1, w_R2, w_P1, w_P2, w_C1, w_C2')"
   ]
  },
  {
   "cell_type": "code",
   "execution_count": 4,
   "metadata": {},
   "outputs": [],
   "source": [
    "e11 = sympy.Eq(r_S1*w_S1 + r_P1*w_P1, (r_S1 + r_P1)*w_C1)"
   ]
  },
  {
   "cell_type": "code",
   "execution_count": 5,
   "metadata": {},
   "outputs": [
    {
     "data": {
      "text/latex": [
       "$\\displaystyle r_{P1} w_{P1} + r_{S1} w_{S1} = w_{C1} \\left(r_{P1} + r_{S1}\\right)$"
      ],
      "text/plain": [
       "Eq(r_P1*w_P1 + r_S1*w_S1, w_C1*(r_P1 + r_S1))"
      ]
     },
     "execution_count": 5,
     "metadata": {},
     "output_type": "execute_result"
    }
   ],
   "source": [
    "e11"
   ]
  },
  {
   "cell_type": "code",
   "execution_count": 6,
   "metadata": {},
   "outputs": [],
   "source": [
    "e12 = sympy.Eq(r_R1*w_R1, r_P1*w_P1 + (r_R1 - r_P1)*w_C1)"
   ]
  },
  {
   "cell_type": "code",
   "execution_count": 7,
   "metadata": {},
   "outputs": [
    {
     "data": {
      "text/latex": [
       "$\\displaystyle r_{R1} w_{R1} = r_{P1} w_{P1} + w_{C1} \\left(- r_{P1} + r_{R1}\\right)$"
      ],
      "text/plain": [
       "Eq(r_R1*w_R1, r_P1*w_P1 + w_C1*(-r_P1 + r_R1))"
      ]
     },
     "execution_count": 7,
     "metadata": {},
     "output_type": "execute_result"
    }
   ],
   "source": [
    "e12"
   ]
  },
  {
   "cell_type": "code",
   "execution_count": 8,
   "metadata": {},
   "outputs": [
    {
     "data": {
      "text/latex": [
       "$\\displaystyle 0 = r_{P1} w_{P1} + w_{C1} \\left(- r_{P1} + r_{R1}\\right)$"
      ],
      "text/plain": [
       "Eq(0, r_P1*w_P1 + w_C1*(-r_P1 + r_R1))"
      ]
     },
     "execution_count": 8,
     "metadata": {},
     "output_type": "execute_result"
    }
   ],
   "source": [
    "e12.subs(w_R1, 0)"
   ]
  },
  {
   "cell_type": "code",
   "execution_count": 9,
   "metadata": {},
   "outputs": [
    {
     "data": {
      "text/plain": [
       "[{w_C1: (r_P1*w_P1 - r_R1*w_R1)/(r_P1 - r_R1),\n",
       "  w_S1: (-r_P1*w_P1*(r_P1 - r_R1) + (r_P1 + r_S1)*(r_P1*w_P1 - r_R1*w_R1))/(r_S1*(r_P1 - r_R1))}]"
      ]
     },
     "execution_count": 9,
     "metadata": {},
     "output_type": "execute_result"
    }
   ],
   "source": [
    "sympy.solve((e11, e12), w_S1, w_C1, dict=True)"
   ]
  },
  {
   "cell_type": "code",
   "execution_count": null,
   "metadata": {},
   "outputs": [],
   "source": []
  }
 ],
 "metadata": {
  "kernelspec": {
   "display_name": "Python 3",
   "language": "python",
   "name": "python3"
  },
  "language_info": {
   "codemirror_mode": {
    "name": "ipython",
    "version": 3
   },
   "file_extension": ".py",
   "mimetype": "text/x-python",
   "name": "python",
   "nbconvert_exporter": "python",
   "pygments_lexer": "ipython3",
   "version": "3.7.6"
  }
 },
 "nbformat": 4,
 "nbformat_minor": 4
}
