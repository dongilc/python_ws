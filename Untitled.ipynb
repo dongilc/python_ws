{
 "cells": [
  {
   "cell_type": "code",
   "execution_count": 2,
   "metadata": {},
   "outputs": [],
   "source": [
    "import tinyik"
   ]
  },
  {
   "cell_type": "code",
   "execution_count": 3,
   "metadata": {},
   "outputs": [
    {
     "data": {
      "text/plain": [
       "['Actuator',\n",
       " 'CCDFKSolver',\n",
       " 'CCDIKSolver',\n",
       " 'ConjugateGradientOptimizer',\n",
       " 'FKSolver',\n",
       " 'IKSolver',\n",
       " 'Joint',\n",
       " 'Link',\n",
       " 'NewtonOptimizer',\n",
       " 'ScipyOptimizer',\n",
       " 'ScipySmoothOptimizer',\n",
       " 'SteepestDescentOptimizer',\n",
       " '__all__',\n",
       " '__builtins__',\n",
       " '__cached__',\n",
       " '__doc__',\n",
       " '__file__',\n",
       " '__loader__',\n",
       " '__name__',\n",
       " '__package__',\n",
       " '__path__',\n",
       " '__spec__',\n",
       " 'component',\n",
       " 'core',\n",
       " 'optimizer',\n",
       " 'solver',\n",
       " 'visualize',\n",
       " 'visualizer']"
      ]
     },
     "execution_count": 3,
     "metadata": {},
     "output_type": "execute_result"
    }
   ],
   "source": [
    "dir(tinyik)"
   ]
  },
  {
   "cell_type": "code",
   "execution_count": 5,
   "metadata": {},
   "outputs": [
    {
     "name": "stdout",
     "output_type": "stream",
     "text": [
      "Help on class Link in module tinyik.component:\n",
      "\n",
      "class Link(builtins.object)\n",
      " |  Link(coord)\n",
      " |  \n",
      " |  Represents a link.\n",
      " |  \n",
      " |  Methods defined here:\n",
      " |  \n",
      " |  __init__(self, coord)\n",
      " |      Create a link from a specified coordinate.\n",
      " |  \n",
      " |  matrix(self, _)\n",
      " |      Return translation matrix in homogeneous coordinates.\n",
      " |  \n",
      " |  ----------------------------------------------------------------------\n",
      " |  Data descriptors defined here:\n",
      " |  \n",
      " |  __dict__\n",
      " |      dictionary for instance variables (if defined)\n",
      " |  \n",
      " |  __weakref__\n",
      " |      list of weak references to the object (if defined)\n",
      "\n"
     ]
    }
   ],
   "source": [
    "help(tinyik.\n",
    "    Link)"
   ]
  },
  {
   "cell_type": "code",
   "execution_count": null,
   "metadata": {},
   "outputs": [],
   "source": []
  }
 ],
 "metadata": {
  "kernelspec": {
   "display_name": "Python 3",
   "language": "python",
   "name": "python3"
  },
  "language_info": {
   "codemirror_mode": {
    "name": "ipython",
    "version": 3
   },
   "file_extension": ".py",
   "mimetype": "text/x-python",
   "name": "python",
   "nbconvert_exporter": "python",
   "pygments_lexer": "ipython3",
   "version": "3.7.6"
  }
 },
 "nbformat": 4,
 "nbformat_minor": 4
}
