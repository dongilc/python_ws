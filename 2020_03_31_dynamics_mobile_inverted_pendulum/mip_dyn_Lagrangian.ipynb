{
 "cells": [
  {
   "cell_type": "code",
   "execution_count": 1,
   "metadata": {},
   "outputs": [],
   "source": [
    "import modern_robotics as mr"
   ]
  },
  {
   "cell_type": "code",
   "execution_count": 2,
   "metadata": {},
   "outputs": [],
   "source": [
    "import numpy as np"
   ]
  },
  {
   "cell_type": "code",
   "execution_count": 3,
   "metadata": {},
   "outputs": [],
   "source": [
    "import sympy as sym"
   ]
  },
  {
   "cell_type": "code",
   "execution_count": 4,
   "metadata": {},
   "outputs": [],
   "source": [
    "sym.init_printing()"
   ]
  },
  {
   "cell_type": "code",
   "execution_count": 5,
   "metadata": {},
   "outputs": [],
   "source": [
    "w1, w2, w3 = sym.symbols('w1, w2, w3', real=True)"
   ]
  },
  {
   "cell_type": "code",
   "execution_count": 6,
   "metadata": {},
   "outputs": [],
   "source": [
    "w = np.array([w1, w2, w3])"
   ]
  },
  {
   "cell_type": "code",
   "execution_count": 7,
   "metadata": {},
   "outputs": [],
   "source": [
    "w_skew = mr.VecToso3(w)"
   ]
  },
  {
   "cell_type": "code",
   "execution_count": 8,
   "metadata": {},
   "outputs": [
    {
     "output_type": "execute_result",
     "data": {
      "text/plain": "array([[0, -w3, w2],\n       [w3, 0, -w1],\n       [-w2, w1, 0]], dtype=object)"
     },
     "metadata": {},
     "execution_count": 8
    }
   ],
   "source": [
    "w_skew"
   ]
  },
  {
   "cell_type": "code",
   "execution_count": 9,
   "metadata": {},
   "outputs": [],
   "source": [
    "w_skew2 = np.dot(w_skew,w_skew)"
   ]
  },
  {
   "cell_type": "code",
   "execution_count": 10,
   "metadata": {},
   "outputs": [
    {
     "output_type": "execute_result",
     "data": {
      "text/plain": "array([[-w2**2 - w3**2, w1*w2, w1*w3],\n       [w1*w2, -w1**2 - w3**2, w2*w3],\n       [w1*w3, w2*w3, -w1**2 - w2**2]], dtype=object)"
     },
     "metadata": {},
     "execution_count": 10
    }
   ],
   "source": [
    "w_skew2"
   ]
  },
  {
   "cell_type": "code",
   "execution_count": 11,
   "metadata": {},
   "outputs": [],
   "source": [
    "w_skew3 = np.dot(w_skew,w_skew2)"
   ]
  },
  {
   "cell_type": "code",
   "execution_count": 12,
   "metadata": {},
   "outputs": [
    {
     "output_type": "execute_result",
     "data": {
      "text/plain": "array([[0, w2**2*w3 - w3*(-w1**2 - w3**2),\n        -w2*w3**2 + w2*(-w1**2 - w2**2)],\n       [-w1**2*w3 + w3*(-w2**2 - w3**2), 0,\n        w1*w3**2 - w1*(-w1**2 - w2**2)],\n       [w1**2*w2 - w2*(-w2**2 - w3**2), -w1*w2**2 + w1*(-w1**2 - w3**2),\n        0]], dtype=object)"
     },
     "metadata": {},
     "execution_count": 12
    }
   ],
   "source": [
    "w_skew3"
   ]
  },
  {
   "cell_type": "code",
   "execution_count": 13,
   "metadata": {},
   "outputs": [
    {
     "output_type": "stream",
     "name": "stdout",
     "text": "[[0 w2**2*w3 - w3*(-w1**2 - w3**2) -w2*w3**2 + w2*(-w1**2 - w2**2)]\n [-w1**2*w3 + w3*(-w2**2 - w3**2) 0 w1*w3**2 - w1*(-w1**2 - w2**2)]\n [w1**2*w2 - w2*(-w2**2 - w3**2) -w1*w2**2 + w1*(-w1**2 - w3**2) 0]]\n"
    }
   ],
   "source": [
    "print(w_skew3)"
   ]
  }
 ],
 "metadata": {
  "kernelspec": {
   "display_name": "Python 3",
   "language": "python",
   "name": "python3"
  },
  "language_info": {
   "codemirror_mode": {
    "name": "ipython",
    "version": 3
   },
   "file_extension": ".py",
   "mimetype": "text/x-python",
   "name": "python",
   "nbconvert_exporter": "python",
   "pygments_lexer": "ipython3",
   "version": "3.7.6-final"
  }
 },
 "nbformat": 4,
 "nbformat_minor": 4
}