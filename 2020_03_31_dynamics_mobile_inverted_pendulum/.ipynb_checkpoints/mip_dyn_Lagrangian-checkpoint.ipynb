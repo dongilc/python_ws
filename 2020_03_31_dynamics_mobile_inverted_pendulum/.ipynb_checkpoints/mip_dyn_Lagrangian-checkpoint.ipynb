{
 "cells": [
  {
   "cell_type": "markdown",
   "metadata": {},
   "source": [
    "# Mobile Inverted Pendulum \n",
    "## Dynamics Equation Generation\n",
    "### Dongil Choi, 2020-03-31\n",
    "#### Reference from https://github.com/Topasm/MIP_pyd"
   ]
  },
  {
   "cell_type": "code",
   "execution_count": 1,
   "metadata": {},
   "outputs": [],
   "source": [
    "from sympy import *\n",
    "from sympy.physics.mechanics import *\n",
    "init_vprinting()"
   ]
  },
  {
   "cell_type": "code",
   "execution_count": 2,
   "metadata": {},
   "outputs": [],
   "source": [
    "import numpy as np"
   ]
  },
  {
   "cell_type": "code",
   "execution_count": 3,
   "metadata": {},
   "outputs": [],
   "source": [
    "# Newtonian Reference Frame, N\n",
    "N = ReferenceFrame('N')\n",
    "\n",
    "# Define a origin of N\n",
    "No = Point('No')\n",
    "No.set_vel(N, 0)"
   ]
  },
  {
   "cell_type": "code",
   "execution_count": 4,
   "metadata": {},
   "outputs": [],
   "source": [
    "# Variables\n",
    "x, theta, delta = dynamicsymbols('x theta delta')\n",
    "xd, thetad, deltad = dynamicsymbols('x theta delta', 1)\n",
    "xdd, thetadd, deltadd = dynamicsymbols('x theta delta', 2)\n",
    "\n",
    "wL, wR = dynamicsymbols('wL wR')\n",
    "wLd, wRd = dynamicsymbols('wL wR', 1)\n",
    "wLdd, wRdd = dynamicsymbols('wL wR', 2)\n",
    "\n",
    "TL, TR = dynamicsymbols('TL TR')\n",
    "\n",
    "# Constants\n",
    "g = symbols('g', real=True, constant = True)\n",
    "l = symbols('L', real=True, constant = True)\n",
    "d = symbols('d', real=True, constant = True)\n",
    "R = symbols('R', real=True, constant = True)"
   ]
  },
  {
   "cell_type": "code",
   "execution_count": 5,
   "metadata": {},
   "outputs": [],
   "source": [
    "# Set Moving Frame\n",
    "F = N.orientnew('F', 'Axis', [delta, N.z])\n",
    "P = F.orientnew('P', 'Axis', [theta, F.y])\n",
    "\n",
    "# Set Point\n",
    "I = No.locatenew('I', x*F.x)\n",
    "Po = I.locatenew('Po', l*P.z)\n",
    "Lo = I.locatenew('Lo', d*F.y)\n",
    "Ro = I.locatenew('Ro', -d*F.y)\n",
    "LN = Lo.locatenew('LN', -R*F.z)\n",
    "RN = Ro.locatenew('RN', -R*F.z)"
   ]
  },
  {
   "cell_type": "code",
   "execution_count": 6,
   "metadata": {},
   "outputs": [
    {
     "data": {
      "text/latex": [
       "$\\displaystyle \\left[\\begin{matrix}\\operatorname{cos}\\left(\\delta\\right) & - \\operatorname{sin}\\left(\\delta\\right) & 0\\\\\\operatorname{sin}\\left(\\delta\\right) & \\operatorname{cos}\\left(\\delta\\right) & 0\\\\0 & 0 & 1\\end{matrix}\\right]$"
      ],
      "text/plain": [
       "⎡cos(δ)  -sin(δ)  0⎤\n",
       "⎢                  ⎥\n",
       "⎢sin(δ)  cos(δ)   0⎥\n",
       "⎢                  ⎥\n",
       "⎣  0        0     1⎦"
      ]
     },
     "execution_count": 6,
     "metadata": {},
     "output_type": "execute_result"
    }
   ],
   "source": [
    "N.dcm(F)"
   ]
  },
  {
   "cell_type": "code",
   "execution_count": 7,
   "metadata": {},
   "outputs": [
    {
     "data": {
      "text/latex": [
       "$\\displaystyle \\left[\\begin{matrix}\\operatorname{cos}\\left(\\delta\\right) \\operatorname{cos}\\left(\\theta\\right) & - \\operatorname{sin}\\left(\\delta\\right) & \\operatorname{sin}\\left(\\theta\\right) \\operatorname{cos}\\left(\\delta\\right)\\\\\\operatorname{sin}\\left(\\delta\\right) \\operatorname{cos}\\left(\\theta\\right) & \\operatorname{cos}\\left(\\delta\\right) & \\operatorname{sin}\\left(\\delta\\right) \\operatorname{sin}\\left(\\theta\\right)\\\\- \\operatorname{sin}\\left(\\theta\\right) & 0 & \\operatorname{cos}\\left(\\theta\\right)\\end{matrix}\\right]$"
      ],
      "text/plain": [
       "⎡cos(δ)⋅cos(θ)  -sin(δ)  sin(θ)⋅cos(δ)⎤\n",
       "⎢                                     ⎥\n",
       "⎢sin(δ)⋅cos(θ)  cos(δ)   sin(δ)⋅sin(θ)⎥\n",
       "⎢                                     ⎥\n",
       "⎣   -sin(θ)        0        cos(θ)    ⎦"
      ]
     },
     "execution_count": 7,
     "metadata": {},
     "output_type": "execute_result"
    }
   ],
   "source": [
    "N.dcm(P)"
   ]
  },
  {
   "cell_type": "code",
   "execution_count": 8,
   "metadata": {},
   "outputs": [],
   "source": [
    "# Mass and Inertia\n",
    "# pendulum\n",
    "mp = symbols('mp')\n",
    "Ip = outer(P.x, P.x)\n",
    "inertia_tuple = (Ip, Po)\n",
    "Mp = RigidBody('Mp', Po, P, mp, inertia_tuple)\n",
    "\n",
    "# wheels\n",
    "mw = symbols('mw')\n",
    "Im = outer(F.x, F.x)\n",
    "inertia_tuple = (Im, Lo)\n",
    "L = RigidBody('L', Lo, F, mw, inertia_tuple)\n",
    "inertia_tuple = (Im, Ro)\n",
    "R = RigidBody('R', Ro, F, mw, inertia_tuple)"
   ]
  },
  {
   "cell_type": "code",
   "execution_count": 9,
   "metadata": {},
   "outputs": [],
   "source": [
    "# Angular Velocity\n",
    "F.set_ang_vel(N, deltad*N.z)   # Angular velocity of F in N\n",
    "P.set_ang_vel(F, thetad*F.y)   # Angular velocity of P in F"
   ]
  },
  {
   "cell_type": "code",
   "execution_count": 10,
   "metadata": {},
   "outputs": [],
   "source": [
    "# Create q and dq vectors\n",
    "q = Matrix([x, delta, theta, wL, wR])\n",
    "dq = q.diff()"
   ]
  },
  {
   "cell_type": "code",
   "execution_count": 14,
   "metadata": {},
   "outputs": [
    {
     "data": {
      "text/latex": [
       "$\\displaystyle \\left[\\begin{matrix}\\operatorname{cos}\\left(\\delta\\right) \\operatorname{cos}\\left(\\theta\\right) & - \\operatorname{sin}\\left(\\delta\\right) & \\operatorname{sin}\\left(\\theta\\right) \\operatorname{cos}\\left(\\delta\\right)\\\\\\operatorname{sin}\\left(\\delta\\right) \\operatorname{cos}\\left(\\theta\\right) & \\operatorname{cos}\\left(\\delta\\right) & \\operatorname{sin}\\left(\\delta\\right) \\operatorname{sin}\\left(\\theta\\right)\\\\- \\operatorname{sin}\\left(\\theta\\right) & 0 & \\operatorname{cos}\\left(\\theta\\right)\\end{matrix}\\right]$"
      ],
      "text/plain": [
       "⎡cos(δ)⋅cos(θ)  -sin(δ)  sin(θ)⋅cos(δ)⎤\n",
       "⎢                                     ⎥\n",
       "⎢sin(δ)⋅cos(θ)  cos(δ)   sin(δ)⋅sin(θ)⎥\n",
       "⎢                                     ⎥\n",
       "⎣   -sin(θ)        0        cos(θ)    ⎦"
      ]
     },
     "execution_count": 14,
     "metadata": {},
     "output_type": "execute_result"
    }
   ],
   "source": []
  },
  {
   "cell_type": "code",
   "execution_count": null,
   "metadata": {},
   "outputs": [],
   "source": []
  }
 ],
 "metadata": {
  "kernelspec": {
   "display_name": "Python 3",
   "language": "python",
   "name": "python3"
  },
  "language_info": {
   "codemirror_mode": {
    "name": "ipython",
    "version": 3
   },
   "file_extension": ".py",
   "mimetype": "text/x-python",
   "name": "python",
   "nbconvert_exporter": "python",
   "pygments_lexer": "ipython3",
   "version": "3.7.6"
  }
 },
 "nbformat": 4,
 "nbformat_minor": 4
}
