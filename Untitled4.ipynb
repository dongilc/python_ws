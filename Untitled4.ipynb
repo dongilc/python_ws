{
 "cells": [
  {
   "cell_type": "code",
   "execution_count": 2,
   "metadata": {},
   "outputs": [
    {
     "name": "stdout",
     "output_type": "stream",
     "text": [
      "Message sent on unknown\n"
     ]
    }
   ],
   "source": [
    "import can\n",
    "\n",
    "# Candlelight firmware on Linux\n",
    "#bus = can.interface.Bus(bustype='socketcan', channel='can0', bitrate=500000)\n",
    "\n",
    "# Stock slcan firmware on Linux\n",
    "bus = can.interface.Bus(bustype='slcan', channel='/dev/ttyACM2', bitrate=500000)\n",
    "\n",
    "# Stock slcan firmware on Windows\n",
    "#bus = can.interface.Bus(bustype='slcan', channel='COM0', bitrate=500000)\n",
    "\n",
    "msg = can.Message(arbitration_id=0xc0ffee,\n",
    "                  data=[0, 25, 0, 1, 3, 1, 4, 1],\n",
    "                  is_extended_id=True)\n",
    "\n",
    "try:\n",
    "    bus.send(msg)\n",
    "    print(\"Message sent on {}\".format(bus.channel_info))\n",
    "except can.CanError:\n",
    "    print(\"Message NOT sent\")"
   ]
  },
  {
   "cell_type": "code",
   "execution_count": null,
   "metadata": {},
   "outputs": [],
   "source": []
  },
  {
   "cell_type": "code",
   "execution_count": null,
   "metadata": {},
   "outputs": [],
   "source": []
  },
  {
   "cell_type": "code",
   "execution_count": null,
   "metadata": {},
   "outputs": [],
   "source": []
  }
 ],
 "metadata": {
  "kernelspec": {
   "display_name": "Python 3",
   "language": "python",
   "name": "python3"
  },
  "language_info": {
   "codemirror_mode": {
    "name": "ipython",
    "version": 3
   },
   "file_extension": ".py",
   "mimetype": "text/x-python",
   "name": "python",
   "nbconvert_exporter": "python",
   "pygments_lexer": "ipython3",
   "version": "3.7.6"
  }
 },
 "nbformat": 4,
 "nbformat_minor": 4
}
