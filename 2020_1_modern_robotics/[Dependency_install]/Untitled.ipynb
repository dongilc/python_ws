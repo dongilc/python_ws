{
 "cells": [
  {
   "cell_type": "code",
   "execution_count": 2,
   "metadata": {},
   "outputs": [
    {
     "name": "stdout",
     "output_type": "stream",
     "text": [
      "Collecting modern_robotics\n",
      "  Downloading https://files.pythonhosted.org/packages/a0/78/18a10bb636b0f1ae101efdb8dfe65f5dce231e00de95ae1a14af32c49249/modern_robotics-1.1.0.tar.gz\n",
      "Requirement already satisfied: numpy in c:\\users\\cdi\\anaconda3\\lib\\site-packages (from modern_robotics) (1.16.5)\n",
      "Building wheels for collected packages: modern-robotics\n",
      "  Building wheel for modern-robotics (setup.py): started\n",
      "  Building wheel for modern-robotics (setup.py): finished with status 'done'\n",
      "  Created wheel for modern-robotics: filename=modern_robotics-1.1.0-cp37-none-any.whl size=15200 sha256=e20d33e2679b1f5955fdea832a8352da98efce1efe7df741503a9ed2a2b87556\n",
      "  Stored in directory: C:\\Users\\cdi\\AppData\\Local\\pip\\Cache\\wheels\\27\\33\\0f\\f3dbd52f320b5a427a8e7ab58ce0f8bb0d64e362108f4b81f0\n",
      "Successfully built modern-robotics\n",
      "Installing collected packages: modern-robotics\n",
      "Successfully installed modern-robotics-1.1.0\n",
      "Note: you may need to restart the kernel to use updated packages.\n"
     ]
    }
   ],
   "source": [
    "pip install modern_robotics"
   ]
  },
  {
   "cell_type": "code",
   "execution_count": 3,
   "metadata": {},
   "outputs": [
    {
     "name": "stdout",
     "output_type": "stream",
     "text": [
      "Collecting vtk\n",
      "  Downloading https://files.pythonhosted.org/packages/6b/55/e4f0cdf6634def017a98374a6930ffdd65d84b8ddf1c885a08728de5b408/vtk-8.1.2-cp37-cp37m-win_amd64.whl (24.4MB)\n",
      "Installing collected packages: vtk\n",
      "Successfully installed vtk-8.1.2\n",
      "Note: you may need to restart the kernel to use updated packages.\n"
     ]
    }
   ],
   "source": [
    "pip install vtk"
   ]
  },
  {
   "cell_type": "code",
   "execution_count": 4,
   "metadata": {},
   "outputs": [
    {
     "name": "stdout",
     "output_type": "stream",
     "text": [
      "Collecting robopy\n",
      "  Downloading https://files.pythonhosted.org/packages/66/19/708290ae54b564def31f76f0eec3eec8b27fa07104ecee779af1572035d8/robopy-1.0.8-py3-none-any.whl (5.8MB)\n",
      "Requirement already satisfied: numpy in c:\\users\\cdi\\anaconda3\\lib\\site-packages (from robopy) (1.16.5)\n",
      "Requirement already satisfied: scipy in c:\\users\\cdi\\anaconda3\\lib\\site-packages (from robopy) (1.3.1)\n",
      "Requirement already satisfied: imageio in c:\\users\\cdi\\anaconda3\\lib\\site-packages (from robopy) (2.6.0)\n",
      "Requirement already satisfied: pillow in c:\\users\\cdi\\anaconda3\\lib\\site-packages (from imageio->robopy) (6.2.0)\n",
      "Installing collected packages: robopy\n",
      "Successfully installed robopy-1.0.8\n",
      "Note: you may need to restart the kernel to use updated packages.\n"
     ]
    }
   ],
   "source": [
    "pip install robopy"
   ]
  },
  {
   "cell_type": "code",
   "execution_count": null,
   "metadata": {},
   "outputs": [],
   "source": []
  }
 ],
 "metadata": {
  "kernelspec": {
   "display_name": "Python 3",
   "language": "python",
   "name": "python3"
  },
  "language_info": {
   "codemirror_mode": {
    "name": "ipython",
    "version": 3
   },
   "file_extension": ".py",
   "mimetype": "text/x-python",
   "name": "python",
   "nbconvert_exporter": "python",
   "pygments_lexer": "ipython3",
   "version": "3.7.4"
  }
 },
 "nbformat": 4,
 "nbformat_minor": 2
}
