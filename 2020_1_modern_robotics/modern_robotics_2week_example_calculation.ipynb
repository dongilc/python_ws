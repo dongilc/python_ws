{
 "cells": [
  {
   "cell_type": "code",
   "execution_count": 1,
   "metadata": {},
   "outputs": [],
   "source": [
    "import modern_robotics as mr"
   ]
  },
  {
   "cell_type": "code",
   "execution_count": 2,
   "metadata": {},
   "outputs": [
    {
     "data": {
      "text/plain": [
       "['Adjoint',\n",
       " 'AxisAng3',\n",
       " 'AxisAng6',\n",
       " 'CartesianTrajectory',\n",
       " 'ComputedTorque',\n",
       " 'CubicTimeScaling',\n",
       " 'DistanceToSE3',\n",
       " 'DistanceToSO3',\n",
       " 'EndEffectorForces',\n",
       " 'EulerStep',\n",
       " 'FKinBody',\n",
       " 'FKinSpace',\n",
       " 'ForwardDynamics',\n",
       " 'ForwardDynamicsTrajectory',\n",
       " 'GravityForces',\n",
       " 'IKinBody',\n",
       " 'IKinSpace',\n",
       " 'InverseDynamics',\n",
       " 'InverseDynamicsTrajectory',\n",
       " 'JacobianBody',\n",
       " 'JacobianSpace',\n",
       " 'JointTrajectory',\n",
       " 'MassMatrix',\n",
       " 'MatrixExp3',\n",
       " 'MatrixExp6',\n",
       " 'MatrixLog3',\n",
       " 'MatrixLog6',\n",
       " 'NearZero',\n",
       " 'Normalize',\n",
       " 'ProjectToSE3',\n",
       " 'ProjectToSO3',\n",
       " 'QuinticTimeScaling',\n",
       " 'RotInv',\n",
       " 'RpToTrans',\n",
       " 'ScrewToAxis',\n",
       " 'ScrewTrajectory',\n",
       " 'SimulateControl',\n",
       " 'TestIfSE3',\n",
       " 'TestIfSO3',\n",
       " 'TransInv',\n",
       " 'TransToRp',\n",
       " 'VecTose3',\n",
       " 'VecToso3',\n",
       " 'VelQuadraticForces',\n",
       " '__builtins__',\n",
       " '__cached__',\n",
       " '__doc__',\n",
       " '__file__',\n",
       " '__loader__',\n",
       " '__name__',\n",
       " '__package__',\n",
       " '__path__',\n",
       " '__spec__',\n",
       " '__version__',\n",
       " 'ad',\n",
       " 'core',\n",
       " 'np',\n",
       " 'print_function',\n",
       " 'se3ToVec',\n",
       " 'so3ToVec']"
      ]
     },
     "execution_count": 2,
     "metadata": {},
     "output_type": "execute_result"
    }
   ],
   "source": [
    "dir(mr)"
   ]
  },
  {
   "cell_type": "code",
   "execution_count": 3,
   "metadata": {},
   "outputs": [],
   "source": [
    "import robopy as rp"
   ]
  },
  {
   "cell_type": "code",
   "execution_count": 4,
   "metadata": {},
   "outputs": [
    {
     "data": {
      "text/plain": [
       "['Orion5',\n",
       " 'Puma560',\n",
       " 'Quaternion',\n",
       " 'Revolute',\n",
       " 'SE2',\n",
       " 'SE3',\n",
       " 'SO2',\n",
       " 'SO3',\n",
       " 'SerialLink',\n",
       " 'SuperPose',\n",
       " 'UnitQuaternion',\n",
       " 'VtkPipeline',\n",
       " '__builtins__',\n",
       " '__cached__',\n",
       " '__doc__',\n",
       " '__file__',\n",
       " '__loader__',\n",
       " '__name__',\n",
       " '__package__',\n",
       " '__path__',\n",
       " '__spec__',\n",
       " 'angvec2r',\n",
       " 'angvec2tr',\n",
       " 'axesActor2d',\n",
       " 'axesCube',\n",
       " 'axesCubeFloor',\n",
       " 'axesUniversal',\n",
       " 'axes_x_y',\n",
       " 'base',\n",
       " 'check_args',\n",
       " 'common',\n",
       " 'ctraj',\n",
       " 'eul2r',\n",
       " 'eul2tr',\n",
       " 'expm',\n",
       " 'floor',\n",
       " 'graphics',\n",
       " 'ishomog',\n",
       " 'isvec',\n",
       " 'lspb',\n",
       " 'math',\n",
       " 'matrices_equal',\n",
       " 'matrix_mismatch_string_builder',\n",
       " 'model',\n",
       " 'np',\n",
       " 'np2vtk',\n",
       " 'npt',\n",
       " 'oa2r',\n",
       " 'oa2tr',\n",
       " 'pi',\n",
       " 'pkg_resources',\n",
       " 'pose',\n",
       " 'print_function',\n",
       " 'quaternion',\n",
       " 'r2t',\n",
       " 'randint',\n",
       " 'rot2',\n",
       " 'rotx',\n",
       " 'roty',\n",
       " 'rotz',\n",
       " 'rpy2r',\n",
       " 'rpy2tr',\n",
       " 'rt2tr',\n",
       " 'serial_link',\n",
       " 'skew',\n",
       " 'skewa',\n",
       " 'sqrt',\n",
       " 'super_pose',\n",
       " 't2r',\n",
       " 'test_transforms',\n",
       " 'tests',\n",
       " 'tr',\n",
       " 'tr2angvec',\n",
       " 'tr2eul',\n",
       " 'tr2rpy',\n",
       " 'tr2rt',\n",
       " 'trace',\n",
       " 'transforms',\n",
       " 'transl',\n",
       " 'transl2',\n",
       " 'trexp',\n",
       " 'trexp2',\n",
       " 'trlog',\n",
       " 'trot2',\n",
       " 'trotx',\n",
       " 'troty',\n",
       " 'trotz',\n",
       " 'uniform',\n",
       " 'unitize',\n",
       " 'unittest',\n",
       " 'util',\n",
       " 'vex',\n",
       " 'vtk',\n",
       " 'vtk_named_colors']"
      ]
     },
     "execution_count": 4,
     "metadata": {},
     "output_type": "execute_result"
    }
   ],
   "source": [
    "dir(rp)"
   ]
  },
  {
   "cell_type": "code",
   "execution_count": 5,
   "metadata": {},
   "outputs": [],
   "source": [
    "import numpy as np"
   ]
  },
  {
   "cell_type": "code",
   "execution_count": 6,
   "metadata": {},
   "outputs": [],
   "source": [
    "R1 = rp.rotx(90,'deg')"
   ]
  },
  {
   "cell_type": "code",
   "execution_count": 7,
   "metadata": {},
   "outputs": [
    {
     "name": "stdout",
     "output_type": "stream",
     "text": [
      "[[ 1.  0.  0.]\n",
      " [ 0.  0. -1.]\n",
      " [ 0.  1.  0.]]\n"
     ]
    }
   ],
   "source": [
    "print(R1)"
   ]
  },
  {
   "cell_type": "code",
   "execution_count": 8,
   "metadata": {},
   "outputs": [],
   "source": [
    "R2 = rp.rotz(180,'deg')"
   ]
  },
  {
   "cell_type": "code",
   "execution_count": 9,
   "metadata": {},
   "outputs": [
    {
     "name": "stdout",
     "output_type": "stream",
     "text": [
      "[[-1. -0.  0.]\n",
      " [ 0. -1.  0.]\n",
      " [ 0.  0.  1.]]\n"
     ]
    }
   ],
   "source": [
    "print(R2)"
   ]
  },
  {
   "cell_type": "code",
   "execution_count": 10,
   "metadata": {},
   "outputs": [
    {
     "data": {
      "text/plain": [
       "matrix([[-1.,  0.,  0.],\n",
       "        [ 0.,  0., -1.],\n",
       "        [ 0., -1.,  0.]])"
      ]
     },
     "execution_count": 10,
     "metadata": {},
     "output_type": "execute_result"
    }
   ],
   "source": [
    "R1*R2"
   ]
  },
  {
   "cell_type": "code",
   "execution_count": null,
   "metadata": {},
   "outputs": [],
   "source": []
  },
  {
   "cell_type": "code",
   "execution_count": null,
   "metadata": {},
   "outputs": [],
   "source": []
  }
 ],
 "metadata": {
  "kernelspec": {
   "display_name": "Python 3",
   "language": "python",
   "name": "python3"
  },
  "language_info": {
   "codemirror_mode": {
    "name": "ipython",
    "version": 3
   },
   "file_extension": ".py",
   "mimetype": "text/x-python",
   "name": "python",
   "nbconvert_exporter": "python",
   "pygments_lexer": "ipython3",
   "version": "3.7.4"
  }
 },
 "nbformat": 4,
 "nbformat_minor": 4
}
